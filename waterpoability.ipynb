{
  "cells": [
    {
      "cell_type": "code",
      "execution_count": null,
      "metadata": {
        "id": "_Eg0v77TckL9"
      },
      "outputs": [],
      "source": [
        "import pandas as pd\n",
        "import numpy as np\n",
        "import os\n",
        "import seaborn as sns\n",
        "import pickle\n",
        "import re\n"
      ]
    },
    {
      "cell_type": "code",
      "execution_count": null,
      "metadata": {
        "id": "EMS7zoSMcuA9"
      },
      "outputs": [],
      "source": [
        "csvfile = '/content/water_potability (1).csv'       # while reading the data the compiler was not able to decode the utf-8 so we changed the encoding\n",
        "data_all = pd.read_csv(csvfile , encoding = 'latin-1' )"
      ]
    },
    {
      "cell_type": "markdown",
      "source": [],
      "metadata": {
        "id": "rKN3zEpyust-"
      }
    },
    {
      "cell_type": "code",
      "execution_count": null,
      "metadata": {
        "colab": {
          "base_uri": "https://localhost:8080/",
          "height": 226
        },
        "id": "qYXriaMkcuQk",
        "outputId": "3ab3b752-cced-43dc-8d5a-fd0bf7e996cf"
      },
      "outputs": [
        {
          "output_type": "execute_result",
          "data": {
            "text/plain": [
              "            ph     Hardness       Solids  Chloramines     Sulfate  \\\n",
              "0          NaN  204.8904555  20791.31898  7.300211873  368.516441   \n",
              "1  3.716080075  129.4229205  18630.05786  6.635245884         NaN   \n",
              "2  8.099124189  224.2362594  19909.54173  9.275883603         NaN   \n",
              "3  8.316765884  214.3733941  22018.41744  8.059332377  356.886136   \n",
              "4  9.092223456  181.1015092  17978.98634  6.546599974  310.135738   \n",
              "\n",
              "  Conductivity Organic_carbon Trihalomethanes    Turbidity  Potability  \n",
              "0  564.3086542    10.37978308     86.99097046  2.963135381           0  \n",
              "1  592.8853591    15.18001312     56.32907628  4.500656275           0  \n",
              "2  418.6062131    16.86863693     66.42009251   3.05593375           0  \n",
              "3  363.2665162     18.4365245     100.3416744  4.628770537           0  \n",
              "4  398.4108134    11.55827944     31.99799273  4.075075425           0  "
            ],
            "text/html": [
              "\n",
              "  <div id=\"df-f58bc4b5-8705-42b4-89dc-455e23063f56\" class=\"colab-df-container\">\n",
              "    <div>\n",
              "<style scoped>\n",
              "    .dataframe tbody tr th:only-of-type {\n",
              "        vertical-align: middle;\n",
              "    }\n",
              "\n",
              "    .dataframe tbody tr th {\n",
              "        vertical-align: top;\n",
              "    }\n",
              "\n",
              "    .dataframe thead th {\n",
              "        text-align: right;\n",
              "    }\n",
              "</style>\n",
              "<table border=\"1\" class=\"dataframe\">\n",
              "  <thead>\n",
              "    <tr style=\"text-align: right;\">\n",
              "      <th></th>\n",
              "      <th>ph</th>\n",
              "      <th>Hardness</th>\n",
              "      <th>Solids</th>\n",
              "      <th>Chloramines</th>\n",
              "      <th>Sulfate</th>\n",
              "      <th>Conductivity</th>\n",
              "      <th>Organic_carbon</th>\n",
              "      <th>Trihalomethanes</th>\n",
              "      <th>Turbidity</th>\n",
              "      <th>Potability</th>\n",
              "    </tr>\n",
              "  </thead>\n",
              "  <tbody>\n",
              "    <tr>\n",
              "      <th>0</th>\n",
              "      <td>NaN</td>\n",
              "      <td>204.8904555</td>\n",
              "      <td>20791.31898</td>\n",
              "      <td>7.300211873</td>\n",
              "      <td>368.516441</td>\n",
              "      <td>564.3086542</td>\n",
              "      <td>10.37978308</td>\n",
              "      <td>86.99097046</td>\n",
              "      <td>2.963135381</td>\n",
              "      <td>0</td>\n",
              "    </tr>\n",
              "    <tr>\n",
              "      <th>1</th>\n",
              "      <td>3.716080075</td>\n",
              "      <td>129.4229205</td>\n",
              "      <td>18630.05786</td>\n",
              "      <td>6.635245884</td>\n",
              "      <td>NaN</td>\n",
              "      <td>592.8853591</td>\n",
              "      <td>15.18001312</td>\n",
              "      <td>56.32907628</td>\n",
              "      <td>4.500656275</td>\n",
              "      <td>0</td>\n",
              "    </tr>\n",
              "    <tr>\n",
              "      <th>2</th>\n",
              "      <td>8.099124189</td>\n",
              "      <td>224.2362594</td>\n",
              "      <td>19909.54173</td>\n",
              "      <td>9.275883603</td>\n",
              "      <td>NaN</td>\n",
              "      <td>418.6062131</td>\n",
              "      <td>16.86863693</td>\n",
              "      <td>66.42009251</td>\n",
              "      <td>3.05593375</td>\n",
              "      <td>0</td>\n",
              "    </tr>\n",
              "    <tr>\n",
              "      <th>3</th>\n",
              "      <td>8.316765884</td>\n",
              "      <td>214.3733941</td>\n",
              "      <td>22018.41744</td>\n",
              "      <td>8.059332377</td>\n",
              "      <td>356.886136</td>\n",
              "      <td>363.2665162</td>\n",
              "      <td>18.4365245</td>\n",
              "      <td>100.3416744</td>\n",
              "      <td>4.628770537</td>\n",
              "      <td>0</td>\n",
              "    </tr>\n",
              "    <tr>\n",
              "      <th>4</th>\n",
              "      <td>9.092223456</td>\n",
              "      <td>181.1015092</td>\n",
              "      <td>17978.98634</td>\n",
              "      <td>6.546599974</td>\n",
              "      <td>310.135738</td>\n",
              "      <td>398.4108134</td>\n",
              "      <td>11.55827944</td>\n",
              "      <td>31.99799273</td>\n",
              "      <td>4.075075425</td>\n",
              "      <td>0</td>\n",
              "    </tr>\n",
              "  </tbody>\n",
              "</table>\n",
              "</div>\n",
              "    <div class=\"colab-df-buttons\">\n",
              "\n",
              "  <div class=\"colab-df-container\">\n",
              "    <button class=\"colab-df-convert\" onclick=\"convertToInteractive('df-f58bc4b5-8705-42b4-89dc-455e23063f56')\"\n",
              "            title=\"Convert this dataframe to an interactive table.\"\n",
              "            style=\"display:none;\">\n",
              "\n",
              "  <svg xmlns=\"http://www.w3.org/2000/svg\" height=\"24px\" viewBox=\"0 -960 960 960\">\n",
              "    <path d=\"M120-120v-720h720v720H120Zm60-500h600v-160H180v160Zm220 220h160v-160H400v160Zm0 220h160v-160H400v160ZM180-400h160v-160H180v160Zm440 0h160v-160H620v160ZM180-180h160v-160H180v160Zm440 0h160v-160H620v160Z\"/>\n",
              "  </svg>\n",
              "    </button>\n",
              "\n",
              "  <style>\n",
              "    .colab-df-container {\n",
              "      display:flex;\n",
              "      gap: 12px;\n",
              "    }\n",
              "\n",
              "    .colab-df-convert {\n",
              "      background-color: #E8F0FE;\n",
              "      border: none;\n",
              "      border-radius: 50%;\n",
              "      cursor: pointer;\n",
              "      display: none;\n",
              "      fill: #1967D2;\n",
              "      height: 32px;\n",
              "      padding: 0 0 0 0;\n",
              "      width: 32px;\n",
              "    }\n",
              "\n",
              "    .colab-df-convert:hover {\n",
              "      background-color: #E2EBFA;\n",
              "      box-shadow: 0px 1px 2px rgba(60, 64, 67, 0.3), 0px 1px 3px 1px rgba(60, 64, 67, 0.15);\n",
              "      fill: #174EA6;\n",
              "    }\n",
              "\n",
              "    .colab-df-buttons div {\n",
              "      margin-bottom: 4px;\n",
              "    }\n",
              "\n",
              "    [theme=dark] .colab-df-convert {\n",
              "      background-color: #3B4455;\n",
              "      fill: #D2E3FC;\n",
              "    }\n",
              "\n",
              "    [theme=dark] .colab-df-convert:hover {\n",
              "      background-color: #434B5C;\n",
              "      box-shadow: 0px 1px 3px 1px rgba(0, 0, 0, 0.15);\n",
              "      filter: drop-shadow(0px 1px 2px rgba(0, 0, 0, 0.3));\n",
              "      fill: #FFFFFF;\n",
              "    }\n",
              "  </style>\n",
              "\n",
              "    <script>\n",
              "      const buttonEl =\n",
              "        document.querySelector('#df-f58bc4b5-8705-42b4-89dc-455e23063f56 button.colab-df-convert');\n",
              "      buttonEl.style.display =\n",
              "        google.colab.kernel.accessAllowed ? 'block' : 'none';\n",
              "\n",
              "      async function convertToInteractive(key) {\n",
              "        const element = document.querySelector('#df-f58bc4b5-8705-42b4-89dc-455e23063f56');\n",
              "        const dataTable =\n",
              "          await google.colab.kernel.invokeFunction('convertToInteractive',\n",
              "                                                    [key], {});\n",
              "        if (!dataTable) return;\n",
              "\n",
              "        const docLinkHtml = 'Like what you see? Visit the ' +\n",
              "          '<a target=\"_blank\" href=https://colab.research.google.com/notebooks/data_table.ipynb>data table notebook</a>'\n",
              "          + ' to learn more about interactive tables.';\n",
              "        element.innerHTML = '';\n",
              "        dataTable['output_type'] = 'display_data';\n",
              "        await google.colab.output.renderOutput(dataTable, element);\n",
              "        const docLink = document.createElement('div');\n",
              "        docLink.innerHTML = docLinkHtml;\n",
              "        element.appendChild(docLink);\n",
              "      }\n",
              "    </script>\n",
              "  </div>\n",
              "\n",
              "\n",
              "<div id=\"df-2f94f968-77fc-4bca-a426-7746471da699\">\n",
              "  <button class=\"colab-df-quickchart\" onclick=\"quickchart('df-2f94f968-77fc-4bca-a426-7746471da699')\"\n",
              "            title=\"Suggest charts\"\n",
              "            style=\"display:none;\">\n",
              "\n",
              "<svg xmlns=\"http://www.w3.org/2000/svg\" height=\"24px\"viewBox=\"0 0 24 24\"\n",
              "     width=\"24px\">\n",
              "    <g>\n",
              "        <path d=\"M19 3H5c-1.1 0-2 .9-2 2v14c0 1.1.9 2 2 2h14c1.1 0 2-.9 2-2V5c0-1.1-.9-2-2-2zM9 17H7v-7h2v7zm4 0h-2V7h2v10zm4 0h-2v-4h2v4z\"/>\n",
              "    </g>\n",
              "</svg>\n",
              "  </button>\n",
              "\n",
              "<style>\n",
              "  .colab-df-quickchart {\n",
              "      --bg-color: #E8F0FE;\n",
              "      --fill-color: #1967D2;\n",
              "      --hover-bg-color: #E2EBFA;\n",
              "      --hover-fill-color: #174EA6;\n",
              "      --disabled-fill-color: #AAA;\n",
              "      --disabled-bg-color: #DDD;\n",
              "  }\n",
              "\n",
              "  [theme=dark] .colab-df-quickchart {\n",
              "      --bg-color: #3B4455;\n",
              "      --fill-color: #D2E3FC;\n",
              "      --hover-bg-color: #434B5C;\n",
              "      --hover-fill-color: #FFFFFF;\n",
              "      --disabled-bg-color: #3B4455;\n",
              "      --disabled-fill-color: #666;\n",
              "  }\n",
              "\n",
              "  .colab-df-quickchart {\n",
              "    background-color: var(--bg-color);\n",
              "    border: none;\n",
              "    border-radius: 50%;\n",
              "    cursor: pointer;\n",
              "    display: none;\n",
              "    fill: var(--fill-color);\n",
              "    height: 32px;\n",
              "    padding: 0;\n",
              "    width: 32px;\n",
              "  }\n",
              "\n",
              "  .colab-df-quickchart:hover {\n",
              "    background-color: var(--hover-bg-color);\n",
              "    box-shadow: 0 1px 2px rgba(60, 64, 67, 0.3), 0 1px 3px 1px rgba(60, 64, 67, 0.15);\n",
              "    fill: var(--button-hover-fill-color);\n",
              "  }\n",
              "\n",
              "  .colab-df-quickchart-complete:disabled,\n",
              "  .colab-df-quickchart-complete:disabled:hover {\n",
              "    background-color: var(--disabled-bg-color);\n",
              "    fill: var(--disabled-fill-color);\n",
              "    box-shadow: none;\n",
              "  }\n",
              "\n",
              "  .colab-df-spinner {\n",
              "    border: 2px solid var(--fill-color);\n",
              "    border-color: transparent;\n",
              "    border-bottom-color: var(--fill-color);\n",
              "    animation:\n",
              "      spin 1s steps(1) infinite;\n",
              "  }\n",
              "\n",
              "  @keyframes spin {\n",
              "    0% {\n",
              "      border-color: transparent;\n",
              "      border-bottom-color: var(--fill-color);\n",
              "      border-left-color: var(--fill-color);\n",
              "    }\n",
              "    20% {\n",
              "      border-color: transparent;\n",
              "      border-left-color: var(--fill-color);\n",
              "      border-top-color: var(--fill-color);\n",
              "    }\n",
              "    30% {\n",
              "      border-color: transparent;\n",
              "      border-left-color: var(--fill-color);\n",
              "      border-top-color: var(--fill-color);\n",
              "      border-right-color: var(--fill-color);\n",
              "    }\n",
              "    40% {\n",
              "      border-color: transparent;\n",
              "      border-right-color: var(--fill-color);\n",
              "      border-top-color: var(--fill-color);\n",
              "    }\n",
              "    60% {\n",
              "      border-color: transparent;\n",
              "      border-right-color: var(--fill-color);\n",
              "    }\n",
              "    80% {\n",
              "      border-color: transparent;\n",
              "      border-right-color: var(--fill-color);\n",
              "      border-bottom-color: var(--fill-color);\n",
              "    }\n",
              "    90% {\n",
              "      border-color: transparent;\n",
              "      border-bottom-color: var(--fill-color);\n",
              "    }\n",
              "  }\n",
              "</style>\n",
              "\n",
              "  <script>\n",
              "    async function quickchart(key) {\n",
              "      const quickchartButtonEl =\n",
              "        document.querySelector('#' + key + ' button');\n",
              "      quickchartButtonEl.disabled = true;  // To prevent multiple clicks.\n",
              "      quickchartButtonEl.classList.add('colab-df-spinner');\n",
              "      try {\n",
              "        const charts = await google.colab.kernel.invokeFunction(\n",
              "            'suggestCharts', [key], {});\n",
              "      } catch (error) {\n",
              "        console.error('Error during call to suggestCharts:', error);\n",
              "      }\n",
              "      quickchartButtonEl.classList.remove('colab-df-spinner');\n",
              "      quickchartButtonEl.classList.add('colab-df-quickchart-complete');\n",
              "    }\n",
              "    (() => {\n",
              "      let quickchartButtonEl =\n",
              "        document.querySelector('#df-2f94f968-77fc-4bca-a426-7746471da699 button');\n",
              "      quickchartButtonEl.style.display =\n",
              "        google.colab.kernel.accessAllowed ? 'block' : 'none';\n",
              "    })();\n",
              "  </script>\n",
              "</div>\n",
              "\n",
              "    </div>\n",
              "  </div>\n"
            ],
            "application/vnd.google.colaboratory.intrinsic+json": {
              "type": "dataframe",
              "variable_name": "data_all",
              "summary": "{\n  \"name\": \"data_all\",\n  \"rows\": 3276,\n  \"fields\": [\n    {\n      \"column\": \"ph\",\n      \"properties\": {\n        \"dtype\": \"string\",\n        \"num_unique_values\": 2785,\n        \"samples\": [\n          \"6.569053876\",\n          \"9.271355447\",\n          \"8.927905926\"\n        ],\n        \"semantic_type\": \"\",\n        \"description\": \"\"\n      }\n    },\n    {\n      \"column\": \"Hardness\",\n      \"properties\": {\n        \"dtype\": \"string\",\n        \"num_unique_values\": 3276,\n        \"samples\": [\n          \"183.521107\",\n          \"188.9135411\",\n          \"224.0588768\"\n        ],\n        \"semantic_type\": \"\",\n        \"description\": \"\"\n      }\n    },\n    {\n      \"column\": \"Solids\",\n      \"properties\": {\n        \"dtype\": \"string\",\n        \"num_unique_values\": 3276,\n        \"samples\": [\n          \"20461.25271\",\n          \"32873.82002\",\n          \"23264.10997\"\n        ],\n        \"semantic_type\": \"\",\n        \"description\": \"\"\n      }\n    },\n    {\n      \"column\": \"Chloramines\",\n      \"properties\": {\n        \"dtype\": \"string\",\n        \"num_unique_values\": 3276,\n        \"samples\": [\n          \"7.333212178\",\n          \"6.791509363\",\n          \"5.922367041\"\n        ],\n        \"semantic_type\": \"\",\n        \"description\": \"\"\n      }\n    },\n    {\n      \"column\": \"Sulfate\",\n      \"properties\": {\n        \"dtype\": \"number\",\n        \"std\": 41.416840461660584,\n        \"min\": 129.0,\n        \"max\": 481.0306423,\n        \"num_unique_values\": 2495,\n        \"samples\": [\n          324.6440796,\n          370.1213847,\n          329.1277384\n        ],\n        \"semantic_type\": \"\",\n        \"description\": \"\"\n      }\n    },\n    {\n      \"column\": \"Conductivity\",\n      \"properties\": {\n        \"dtype\": \"string\",\n        \"num_unique_values\": 3276,\n        \"samples\": [\n          \"356.3690224\",\n          \"336.561501\",\n          \"387.9713358\"\n        ],\n        \"semantic_type\": \"\",\n        \"description\": \"\"\n      }\n    },\n    {\n      \"column\": \"Organic_carbon\",\n      \"properties\": {\n        \"dtype\": \"string\",\n        \"num_unique_values\": 3276,\n        \"samples\": [\n          \"20.17902887\",\n          \"14.70681031\",\n          \"13.40673745\"\n        ],\n        \"semantic_type\": \"\",\n        \"description\": \"\"\n      }\n    },\n    {\n      \"column\": \"Trihalomethanes\",\n      \"properties\": {\n        \"dtype\": \"string\",\n        \"num_unique_values\": 3114,\n        \"samples\": [\n          \"66.16343924\",\n          \"42.84451085\",\n          \"47.0663922\"\n        ],\n        \"semantic_type\": \"\",\n        \"description\": \"\"\n      }\n    },\n    {\n      \"column\": \"Turbidity\",\n      \"properties\": {\n        \"dtype\": \"string\",\n        \"num_unique_values\": 3276,\n        \"samples\": [\n          \"4.886633785\",\n          \"4.562197671\",\n          \"2.487968647\"\n        ],\n        \"semantic_type\": \"\",\n        \"description\": \"\"\n      }\n    },\n    {\n      \"column\": \"Potability\",\n      \"properties\": {\n        \"dtype\": \"number\",\n        \"std\": 0,\n        \"min\": 0,\n        \"max\": 1,\n        \"num_unique_values\": 2,\n        \"samples\": [\n          1,\n          0\n        ],\n        \"semantic_type\": \"\",\n        \"description\": \"\"\n      }\n    }\n  ]\n}"
            }
          },
          "metadata": {},
          "execution_count": 6
        }
      ],
      "source": [
        "data_all.head()     # this is how our data looks like"
      ]
    },
    {
      "cell_type": "code",
      "source": [],
      "metadata": {
        "id": "qPYRQYYq0E3F"
      },
      "execution_count": null,
      "outputs": []
    },
    {
      "cell_type": "code",
      "execution_count": null,
      "metadata": {
        "colab": {
          "base_uri": "https://localhost:8080/"
        },
        "id": "KJl_3Iyjdmj1",
        "outputId": "cda0d531-57d9-4598-e691-4d5db8f6c37c"
      },
      "outputs": [
        {
          "output_type": "stream",
          "name": "stdout",
          "text": [
            "<class 'pandas.core.frame.DataFrame'>\n",
            "RangeIndex: 3276 entries, 0 to 3275\n",
            "Data columns (total 10 columns):\n",
            " #   Column           Non-Null Count  Dtype  \n",
            "---  ------           --------------  -----  \n",
            " 0   ph               2785 non-null   object \n",
            " 1   Hardness         3276 non-null   object \n",
            " 2   Solids           3276 non-null   object \n",
            " 3   Chloramines      3276 non-null   object \n",
            " 4   Sulfate          2495 non-null   float64\n",
            " 5   Conductivity     3276 non-null   object \n",
            " 6   Organic_carbon   3276 non-null   object \n",
            " 7   Trihalomethanes  3114 non-null   object \n",
            " 8   Turbidity        3276 non-null   object \n",
            " 9   Potability       3276 non-null   int64  \n",
            "dtypes: float64(1), int64(1), object(8)\n",
            "memory usage: 256.1+ KB\n"
          ]
        }
      ],
      "source": [
        "data_all.info()"
      ]
    },
    {
      "cell_type": "code",
      "execution_count": null,
      "metadata": {
        "colab": {
          "base_uri": "https://localhost:8080/"
        },
        "id": "tiIzeoB3d6IQ",
        "outputId": "cc56b513-f1e7-47bf-9c11-afbda750a4ef"
      },
      "outputs": [
        {
          "output_type": "execute_result",
          "data": {
            "text/plain": [
              "(3276, 10)"
            ]
          },
          "metadata": {},
          "execution_count": 8
        }
      ],
      "source": [
        "data_all.shape   # shape of our data"
      ]
    },
    {
      "cell_type": "code",
      "execution_count": null,
      "metadata": {
        "colab": {
          "base_uri": "https://localhost:8080/"
        },
        "id": "m5LxTx9ud6Lb",
        "outputId": "4ccfb9ba-987d-43e5-d47a-05d688d83db0"
      },
      "outputs": [
        {
          "output_type": "execute_result",
          "data": {
            "text/plain": [
              "Potability\n",
              "0    2938\n",
              "1     338\n",
              "Name: count, dtype: int64"
            ]
          },
          "metadata": {},
          "execution_count": 9
        }
      ],
      "source": [
        "data_all['Potability'].value_counts()    # potability is our target column\n"
      ]
    },
    {
      "cell_type": "code",
      "execution_count": null,
      "metadata": {
        "colab": {
          "base_uri": "https://localhost:8080/"
        },
        "id": "eRFkNvD4d6Oe",
        "outputId": "b6732690-e599-4689-c42b-b23d51d6e27f"
      },
      "outputs": [
        {
          "output_type": "execute_result",
          "data": {
            "text/plain": [
              "0.10317460317460317"
            ]
          },
          "metadata": {},
          "execution_count": 10
        }
      ],
      "source": [
        "\n",
        "338/data_all.shape[0]                  # it has class imbalance of around 90 /10"
      ]
    },
    {
      "cell_type": "code",
      "execution_count": null,
      "metadata": {
        "colab": {
          "base_uri": "https://localhost:8080/",
          "height": 226
        },
        "id": "v_62CR3pd6RU",
        "outputId": "f697ab49-6c9e-4762-fc3b-212a9db46528"
      },
      "outputs": [
        {
          "output_type": "execute_result",
          "data": {
            "text/plain": [
              "            ph     Hardness       Solids  Chloramines     Sulfate  \\\n",
              "0          NaN  204.8904555  20791.31898  7.300211873  368.516441   \n",
              "1  3.716080075  129.4229205  18630.05786  6.635245884         NaN   \n",
              "2  8.099124189  224.2362594  19909.54173  9.275883603         NaN   \n",
              "3  8.316765884  214.3733941  22018.41744  8.059332377  356.886136   \n",
              "4  9.092223456  181.1015092  17978.98634  6.546599974  310.135738   \n",
              "\n",
              "  Conductivity Organic_carbon Trihalomethanes    Turbidity  Potability  \n",
              "0  564.3086542    10.37978308     86.99097046  2.963135381           0  \n",
              "1  592.8853591    15.18001312     56.32907628  4.500656275           0  \n",
              "2  418.6062131    16.86863693     66.42009251   3.05593375           0  \n",
              "3  363.2665162     18.4365245     100.3416744  4.628770537           0  \n",
              "4  398.4108134    11.55827944     31.99799273  4.075075425           0  "
            ],
            "text/html": [
              "\n",
              "  <div id=\"df-ecf14af8-00dd-4649-b7bb-d7e5a4df3cca\" class=\"colab-df-container\">\n",
              "    <div>\n",
              "<style scoped>\n",
              "    .dataframe tbody tr th:only-of-type {\n",
              "        vertical-align: middle;\n",
              "    }\n",
              "\n",
              "    .dataframe tbody tr th {\n",
              "        vertical-align: top;\n",
              "    }\n",
              "\n",
              "    .dataframe thead th {\n",
              "        text-align: right;\n",
              "    }\n",
              "</style>\n",
              "<table border=\"1\" class=\"dataframe\">\n",
              "  <thead>\n",
              "    <tr style=\"text-align: right;\">\n",
              "      <th></th>\n",
              "      <th>ph</th>\n",
              "      <th>Hardness</th>\n",
              "      <th>Solids</th>\n",
              "      <th>Chloramines</th>\n",
              "      <th>Sulfate</th>\n",
              "      <th>Conductivity</th>\n",
              "      <th>Organic_carbon</th>\n",
              "      <th>Trihalomethanes</th>\n",
              "      <th>Turbidity</th>\n",
              "      <th>Potability</th>\n",
              "    </tr>\n",
              "  </thead>\n",
              "  <tbody>\n",
              "    <tr>\n",
              "      <th>0</th>\n",
              "      <td>NaN</td>\n",
              "      <td>204.8904555</td>\n",
              "      <td>20791.31898</td>\n",
              "      <td>7.300211873</td>\n",
              "      <td>368.516441</td>\n",
              "      <td>564.3086542</td>\n",
              "      <td>10.37978308</td>\n",
              "      <td>86.99097046</td>\n",
              "      <td>2.963135381</td>\n",
              "      <td>0</td>\n",
              "    </tr>\n",
              "    <tr>\n",
              "      <th>1</th>\n",
              "      <td>3.716080075</td>\n",
              "      <td>129.4229205</td>\n",
              "      <td>18630.05786</td>\n",
              "      <td>6.635245884</td>\n",
              "      <td>NaN</td>\n",
              "      <td>592.8853591</td>\n",
              "      <td>15.18001312</td>\n",
              "      <td>56.32907628</td>\n",
              "      <td>4.500656275</td>\n",
              "      <td>0</td>\n",
              "    </tr>\n",
              "    <tr>\n",
              "      <th>2</th>\n",
              "      <td>8.099124189</td>\n",
              "      <td>224.2362594</td>\n",
              "      <td>19909.54173</td>\n",
              "      <td>9.275883603</td>\n",
              "      <td>NaN</td>\n",
              "      <td>418.6062131</td>\n",
              "      <td>16.86863693</td>\n",
              "      <td>66.42009251</td>\n",
              "      <td>3.05593375</td>\n",
              "      <td>0</td>\n",
              "    </tr>\n",
              "    <tr>\n",
              "      <th>3</th>\n",
              "      <td>8.316765884</td>\n",
              "      <td>214.3733941</td>\n",
              "      <td>22018.41744</td>\n",
              "      <td>8.059332377</td>\n",
              "      <td>356.886136</td>\n",
              "      <td>363.2665162</td>\n",
              "      <td>18.4365245</td>\n",
              "      <td>100.3416744</td>\n",
              "      <td>4.628770537</td>\n",
              "      <td>0</td>\n",
              "    </tr>\n",
              "    <tr>\n",
              "      <th>4</th>\n",
              "      <td>9.092223456</td>\n",
              "      <td>181.1015092</td>\n",
              "      <td>17978.98634</td>\n",
              "      <td>6.546599974</td>\n",
              "      <td>310.135738</td>\n",
              "      <td>398.4108134</td>\n",
              "      <td>11.55827944</td>\n",
              "      <td>31.99799273</td>\n",
              "      <td>4.075075425</td>\n",
              "      <td>0</td>\n",
              "    </tr>\n",
              "  </tbody>\n",
              "</table>\n",
              "</div>\n",
              "    <div class=\"colab-df-buttons\">\n",
              "\n",
              "  <div class=\"colab-df-container\">\n",
              "    <button class=\"colab-df-convert\" onclick=\"convertToInteractive('df-ecf14af8-00dd-4649-b7bb-d7e5a4df3cca')\"\n",
              "            title=\"Convert this dataframe to an interactive table.\"\n",
              "            style=\"display:none;\">\n",
              "\n",
              "  <svg xmlns=\"http://www.w3.org/2000/svg\" height=\"24px\" viewBox=\"0 -960 960 960\">\n",
              "    <path d=\"M120-120v-720h720v720H120Zm60-500h600v-160H180v160Zm220 220h160v-160H400v160Zm0 220h160v-160H400v160ZM180-400h160v-160H180v160Zm440 0h160v-160H620v160ZM180-180h160v-160H180v160Zm440 0h160v-160H620v160Z\"/>\n",
              "  </svg>\n",
              "    </button>\n",
              "\n",
              "  <style>\n",
              "    .colab-df-container {\n",
              "      display:flex;\n",
              "      gap: 12px;\n",
              "    }\n",
              "\n",
              "    .colab-df-convert {\n",
              "      background-color: #E8F0FE;\n",
              "      border: none;\n",
              "      border-radius: 50%;\n",
              "      cursor: pointer;\n",
              "      display: none;\n",
              "      fill: #1967D2;\n",
              "      height: 32px;\n",
              "      padding: 0 0 0 0;\n",
              "      width: 32px;\n",
              "    }\n",
              "\n",
              "    .colab-df-convert:hover {\n",
              "      background-color: #E2EBFA;\n",
              "      box-shadow: 0px 1px 2px rgba(60, 64, 67, 0.3), 0px 1px 3px 1px rgba(60, 64, 67, 0.15);\n",
              "      fill: #174EA6;\n",
              "    }\n",
              "\n",
              "    .colab-df-buttons div {\n",
              "      margin-bottom: 4px;\n",
              "    }\n",
              "\n",
              "    [theme=dark] .colab-df-convert {\n",
              "      background-color: #3B4455;\n",
              "      fill: #D2E3FC;\n",
              "    }\n",
              "\n",
              "    [theme=dark] .colab-df-convert:hover {\n",
              "      background-color: #434B5C;\n",
              "      box-shadow: 0px 1px 3px 1px rgba(0, 0, 0, 0.15);\n",
              "      filter: drop-shadow(0px 1px 2px rgba(0, 0, 0, 0.3));\n",
              "      fill: #FFFFFF;\n",
              "    }\n",
              "  </style>\n",
              "\n",
              "    <script>\n",
              "      const buttonEl =\n",
              "        document.querySelector('#df-ecf14af8-00dd-4649-b7bb-d7e5a4df3cca button.colab-df-convert');\n",
              "      buttonEl.style.display =\n",
              "        google.colab.kernel.accessAllowed ? 'block' : 'none';\n",
              "\n",
              "      async function convertToInteractive(key) {\n",
              "        const element = document.querySelector('#df-ecf14af8-00dd-4649-b7bb-d7e5a4df3cca');\n",
              "        const dataTable =\n",
              "          await google.colab.kernel.invokeFunction('convertToInteractive',\n",
              "                                                    [key], {});\n",
              "        if (!dataTable) return;\n",
              "\n",
              "        const docLinkHtml = 'Like what you see? Visit the ' +\n",
              "          '<a target=\"_blank\" href=https://colab.research.google.com/notebooks/data_table.ipynb>data table notebook</a>'\n",
              "          + ' to learn more about interactive tables.';\n",
              "        element.innerHTML = '';\n",
              "        dataTable['output_type'] = 'display_data';\n",
              "        await google.colab.output.renderOutput(dataTable, element);\n",
              "        const docLink = document.createElement('div');\n",
              "        docLink.innerHTML = docLinkHtml;\n",
              "        element.appendChild(docLink);\n",
              "      }\n",
              "    </script>\n",
              "  </div>\n",
              "\n",
              "\n",
              "<div id=\"df-502503a6-f3f0-42f5-a7fe-27351bc6e8bb\">\n",
              "  <button class=\"colab-df-quickchart\" onclick=\"quickchart('df-502503a6-f3f0-42f5-a7fe-27351bc6e8bb')\"\n",
              "            title=\"Suggest charts\"\n",
              "            style=\"display:none;\">\n",
              "\n",
              "<svg xmlns=\"http://www.w3.org/2000/svg\" height=\"24px\"viewBox=\"0 0 24 24\"\n",
              "     width=\"24px\">\n",
              "    <g>\n",
              "        <path d=\"M19 3H5c-1.1 0-2 .9-2 2v14c0 1.1.9 2 2 2h14c1.1 0 2-.9 2-2V5c0-1.1-.9-2-2-2zM9 17H7v-7h2v7zm4 0h-2V7h2v10zm4 0h-2v-4h2v4z\"/>\n",
              "    </g>\n",
              "</svg>\n",
              "  </button>\n",
              "\n",
              "<style>\n",
              "  .colab-df-quickchart {\n",
              "      --bg-color: #E8F0FE;\n",
              "      --fill-color: #1967D2;\n",
              "      --hover-bg-color: #E2EBFA;\n",
              "      --hover-fill-color: #174EA6;\n",
              "      --disabled-fill-color: #AAA;\n",
              "      --disabled-bg-color: #DDD;\n",
              "  }\n",
              "\n",
              "  [theme=dark] .colab-df-quickchart {\n",
              "      --bg-color: #3B4455;\n",
              "      --fill-color: #D2E3FC;\n",
              "      --hover-bg-color: #434B5C;\n",
              "      --hover-fill-color: #FFFFFF;\n",
              "      --disabled-bg-color: #3B4455;\n",
              "      --disabled-fill-color: #666;\n",
              "  }\n",
              "\n",
              "  .colab-df-quickchart {\n",
              "    background-color: var(--bg-color);\n",
              "    border: none;\n",
              "    border-radius: 50%;\n",
              "    cursor: pointer;\n",
              "    display: none;\n",
              "    fill: var(--fill-color);\n",
              "    height: 32px;\n",
              "    padding: 0;\n",
              "    width: 32px;\n",
              "  }\n",
              "\n",
              "  .colab-df-quickchart:hover {\n",
              "    background-color: var(--hover-bg-color);\n",
              "    box-shadow: 0 1px 2px rgba(60, 64, 67, 0.3), 0 1px 3px 1px rgba(60, 64, 67, 0.15);\n",
              "    fill: var(--button-hover-fill-color);\n",
              "  }\n",
              "\n",
              "  .colab-df-quickchart-complete:disabled,\n",
              "  .colab-df-quickchart-complete:disabled:hover {\n",
              "    background-color: var(--disabled-bg-color);\n",
              "    fill: var(--disabled-fill-color);\n",
              "    box-shadow: none;\n",
              "  }\n",
              "\n",
              "  .colab-df-spinner {\n",
              "    border: 2px solid var(--fill-color);\n",
              "    border-color: transparent;\n",
              "    border-bottom-color: var(--fill-color);\n",
              "    animation:\n",
              "      spin 1s steps(1) infinite;\n",
              "  }\n",
              "\n",
              "  @keyframes spin {\n",
              "    0% {\n",
              "      border-color: transparent;\n",
              "      border-bottom-color: var(--fill-color);\n",
              "      border-left-color: var(--fill-color);\n",
              "    }\n",
              "    20% {\n",
              "      border-color: transparent;\n",
              "      border-left-color: var(--fill-color);\n",
              "      border-top-color: var(--fill-color);\n",
              "    }\n",
              "    30% {\n",
              "      border-color: transparent;\n",
              "      border-left-color: var(--fill-color);\n",
              "      border-top-color: var(--fill-color);\n",
              "      border-right-color: var(--fill-color);\n",
              "    }\n",
              "    40% {\n",
              "      border-color: transparent;\n",
              "      border-right-color: var(--fill-color);\n",
              "      border-top-color: var(--fill-color);\n",
              "    }\n",
              "    60% {\n",
              "      border-color: transparent;\n",
              "      border-right-color: var(--fill-color);\n",
              "    }\n",
              "    80% {\n",
              "      border-color: transparent;\n",
              "      border-right-color: var(--fill-color);\n",
              "      border-bottom-color: var(--fill-color);\n",
              "    }\n",
              "    90% {\n",
              "      border-color: transparent;\n",
              "      border-bottom-color: var(--fill-color);\n",
              "    }\n",
              "  }\n",
              "</style>\n",
              "\n",
              "  <script>\n",
              "    async function quickchart(key) {\n",
              "      const quickchartButtonEl =\n",
              "        document.querySelector('#' + key + ' button');\n",
              "      quickchartButtonEl.disabled = true;  // To prevent multiple clicks.\n",
              "      quickchartButtonEl.classList.add('colab-df-spinner');\n",
              "      try {\n",
              "        const charts = await google.colab.kernel.invokeFunction(\n",
              "            'suggestCharts', [key], {});\n",
              "      } catch (error) {\n",
              "        console.error('Error during call to suggestCharts:', error);\n",
              "      }\n",
              "      quickchartButtonEl.classList.remove('colab-df-spinner');\n",
              "      quickchartButtonEl.classList.add('colab-df-quickchart-complete');\n",
              "    }\n",
              "    (() => {\n",
              "      let quickchartButtonEl =\n",
              "        document.querySelector('#df-502503a6-f3f0-42f5-a7fe-27351bc6e8bb button');\n",
              "      quickchartButtonEl.style.display =\n",
              "        google.colab.kernel.accessAllowed ? 'block' : 'none';\n",
              "    })();\n",
              "  </script>\n",
              "</div>\n",
              "\n",
              "    </div>\n",
              "  </div>\n"
            ],
            "application/vnd.google.colaboratory.intrinsic+json": {
              "type": "dataframe",
              "variable_name": "data_all",
              "summary": "{\n  \"name\": \"data_all\",\n  \"rows\": 3276,\n  \"fields\": [\n    {\n      \"column\": \"ph\",\n      \"properties\": {\n        \"dtype\": \"string\",\n        \"num_unique_values\": 2785,\n        \"samples\": [\n          \"6.569053876\",\n          \"9.271355447\",\n          \"8.927905926\"\n        ],\n        \"semantic_type\": \"\",\n        \"description\": \"\"\n      }\n    },\n    {\n      \"column\": \"Hardness\",\n      \"properties\": {\n        \"dtype\": \"string\",\n        \"num_unique_values\": 3276,\n        \"samples\": [\n          \"183.521107\",\n          \"188.9135411\",\n          \"224.0588768\"\n        ],\n        \"semantic_type\": \"\",\n        \"description\": \"\"\n      }\n    },\n    {\n      \"column\": \"Solids\",\n      \"properties\": {\n        \"dtype\": \"string\",\n        \"num_unique_values\": 3276,\n        \"samples\": [\n          \"20461.25271\",\n          \"32873.82002\",\n          \"23264.10997\"\n        ],\n        \"semantic_type\": \"\",\n        \"description\": \"\"\n      }\n    },\n    {\n      \"column\": \"Chloramines\",\n      \"properties\": {\n        \"dtype\": \"string\",\n        \"num_unique_values\": 3276,\n        \"samples\": [\n          \"7.333212178\",\n          \"6.791509363\",\n          \"5.922367041\"\n        ],\n        \"semantic_type\": \"\",\n        \"description\": \"\"\n      }\n    },\n    {\n      \"column\": \"Sulfate\",\n      \"properties\": {\n        \"dtype\": \"number\",\n        \"std\": 41.416840461660584,\n        \"min\": 129.0,\n        \"max\": 481.0306423,\n        \"num_unique_values\": 2495,\n        \"samples\": [\n          324.6440796,\n          370.1213847,\n          329.1277384\n        ],\n        \"semantic_type\": \"\",\n        \"description\": \"\"\n      }\n    },\n    {\n      \"column\": \"Conductivity\",\n      \"properties\": {\n        \"dtype\": \"string\",\n        \"num_unique_values\": 3276,\n        \"samples\": [\n          \"356.3690224\",\n          \"336.561501\",\n          \"387.9713358\"\n        ],\n        \"semantic_type\": \"\",\n        \"description\": \"\"\n      }\n    },\n    {\n      \"column\": \"Organic_carbon\",\n      \"properties\": {\n        \"dtype\": \"string\",\n        \"num_unique_values\": 3276,\n        \"samples\": [\n          \"20.17902887\",\n          \"14.70681031\",\n          \"13.40673745\"\n        ],\n        \"semantic_type\": \"\",\n        \"description\": \"\"\n      }\n    },\n    {\n      \"column\": \"Trihalomethanes\",\n      \"properties\": {\n        \"dtype\": \"string\",\n        \"num_unique_values\": 3114,\n        \"samples\": [\n          \"66.16343924\",\n          \"42.84451085\",\n          \"47.0663922\"\n        ],\n        \"semantic_type\": \"\",\n        \"description\": \"\"\n      }\n    },\n    {\n      \"column\": \"Turbidity\",\n      \"properties\": {\n        \"dtype\": \"string\",\n        \"num_unique_values\": 3276,\n        \"samples\": [\n          \"4.886633785\",\n          \"4.562197671\",\n          \"2.487968647\"\n        ],\n        \"semantic_type\": \"\",\n        \"description\": \"\"\n      }\n    },\n    {\n      \"column\": \"Potability\",\n      \"properties\": {\n        \"dtype\": \"number\",\n        \"std\": 0,\n        \"min\": 0,\n        \"max\": 1,\n        \"num_unique_values\": 2,\n        \"samples\": [\n          1,\n          0\n        ],\n        \"semantic_type\": \"\",\n        \"description\": \"\"\n      }\n    }\n  ]\n}"
            }
          },
          "metadata": {},
          "execution_count": 11
        }
      ],
      "source": [
        "# EDA\n",
        "data_all.head()                  # if we look at the data we can see that all the columns should numeric in nature\n"
      ]
    },
    {
      "cell_type": "code",
      "execution_count": null,
      "metadata": {
        "colab": {
          "base_uri": "https://localhost:8080/"
        },
        "id": "mK2mrPj7d6am",
        "outputId": "8aa33142-f246-47e6-8b12-5589ccc05833"
      },
      "outputs": [
        {
          "output_type": "stream",
          "name": "stdout",
          "text": [
            "<class 'pandas.core.frame.DataFrame'>\n",
            "RangeIndex: 3276 entries, 0 to 3275\n",
            "Data columns (total 10 columns):\n",
            " #   Column           Non-Null Count  Dtype  \n",
            "---  ------           --------------  -----  \n",
            " 0   ph               2785 non-null   object \n",
            " 1   Hardness         3276 non-null   object \n",
            " 2   Solids           3276 non-null   object \n",
            " 3   Chloramines      3276 non-null   object \n",
            " 4   Sulfate          2495 non-null   float64\n",
            " 5   Conductivity     3276 non-null   object \n",
            " 6   Organic_carbon   3276 non-null   object \n",
            " 7   Trihalomethanes  3114 non-null   object \n",
            " 8   Turbidity        3276 non-null   object \n",
            " 9   Potability       3276 non-null   int64  \n",
            "dtypes: float64(1), int64(1), object(8)\n",
            "memory usage: 256.1+ KB\n"
          ]
        }
      ],
      "source": [
        "data_all.info()        # ph , hardness , solids , chloramines  , conductivity , organic carbon ,Trihalomethanes and turbidity should be numeric in nature but\n",
        "                       # there should be some probllem with it as it is coming out to object column"
      ]
    },
    {
      "cell_type": "code",
      "execution_count": null,
      "metadata": {
        "colab": {
          "base_uri": "https://localhost:8080/"
        },
        "id": "RJx7m4MRd6dL",
        "outputId": "f5b43965-6e75-47df-80f4-a13b325bcb27"
      },
      "outputs": [
        {
          "output_type": "execute_result",
          "data": {
            "text/plain": [
              "ph                 491\n",
              "Hardness             0\n",
              "Solids               0\n",
              "Chloramines          0\n",
              "Sulfate            781\n",
              "Conductivity         0\n",
              "Organic_carbon       0\n",
              "Trihalomethanes    162\n",
              "Turbidity            0\n",
              "Potability           0\n",
              "dtype: int64"
            ]
          },
          "metadata": {},
          "execution_count": 13
        }
      ],
      "source": [
        "data_all.isna().sum()  #as we can see there are 3 columns which contains nul values\n",
        "                        # ph , sulphate and trihalomethanes\n",
        "                        # we have to do null value treatment"
      ]
    },
    {
      "cell_type": "code",
      "execution_count": null,
      "metadata": {
        "id": "pRXoOW1Nd6fw"
      },
      "outputs": [],
      "source": [
        "# preprocessing\n",
        "# we have to do null value treatment\n",
        "# find the values which are causing issues with the numeric column and change it into object column\n",
        "\n"
      ]
    },
    {
      "cell_type": "code",
      "execution_count": null,
      "metadata": {
        "id": "hVJD2mmnd6iy"
      },
      "outputs": [],
      "source": [
        "def non_numeric(column):\n",
        "  non_numeric_elements = []\n",
        "  for i in column:\n",
        "    try:\n",
        "      float(i)\n",
        "    except:\n",
        "      non_numeric_elements.append(i)\n",
        "  return non_numeric_elements\n"
      ]
    },
    {
      "cell_type": "code",
      "execution_count": null,
      "metadata": {
        "colab": {
          "base_uri": "https://localhost:8080/"
        },
        "id": "j4RwpwwNd6lx",
        "outputId": "47d9c3ff-f496-47a9-980a-5c42697b8aa5"
      },
      "outputs": [
        {
          "output_type": "stream",
          "name": "stdout",
          "text": [
            "*********\n",
            "ph\n",
            "['7.-.160467231']\n",
            "no of values 1\n",
            "*********\n",
            "Hardness\n",
            "['214.496610%457156', \"20''9.609618\"]\n",
            "no of values 2\n",
            "*********\n",
            "Chloramines\n",
            "['2.39798!499', '2.10269!09!91']\n",
            "no of values 2\n",
            "*********\n",
            "Conductivity\n",
            "['52,,,3.6712975', '323.794---624']\n",
            "no of values 2\n",
            "*********\n",
            "Organic_carbon\n",
            "[' ¥12.38 ', ' ¥11.12 ', ' ¥14.93 ', ' ¥13.35 ', ' ¥11.35 ', ' ¥16.05 ', ' ¥17.29 ', ' ¥9.80 ', ' ¥9.00 ', ' ¥14.08 ', ' ¥18.70 ', ' ¥15.77 ', ' ¥13.93 ', ' ¥9.71 ', ' ¥14.57 ', ' ¥16.25 ', ' ¥8.99 ', ' ¥15.61 ', ' ¥18.10 ', ' ¥11.53 ', ' ¥12.26 ', ' ¥9.83 ', ' ¥7.51 ', ' ¥13.86 ', ' ¥15.97 ', ' ¥9.35 ', ' ¥13.55 ', ' ¥11.87 ', ' ¥9.23 ', ' ¥19.27 ', ' ¥16.15 ', ' ¥9.39 ', ' ¥15.84 ', ' ¥10.66 ', ' ¥14.86 ', ' ¥13.64 ', ' ¥10.21 ', ' ¥13.48 ', ' ¥18.15 ', ' ¥21.85 ', ' ¥17.70 ', ' ¥13.17 ', ' ¥17.08 ', ' ¥11.62 ', ' ¥7.94 ', ' ¥14.64 ', ' ¥17.21 ', ' ¥14.17 ', ' ¥6.06 ', ' ¥17.49 ', ' ¥18.21 ', ' ¥16.83 ', ' ¥13.45 ', ' ¥17.15 ', ' ¥16.13 ', ' ¥13.37 ', ' ¥14.67 ', ' ¥18.40 ', ' ¥18.60 ', ' ¥9.58 ', ' ¥16.24 ', ' ¥16.27 ', ' ¥6.58 ']\n",
            "no of values 63\n",
            "*********\n",
            "Trihalomethanes\n",
            "['70.1906$£\"2482']\n",
            "no of values 1\n",
            "*********\n",
            "Turbidity\n",
            "['3.873**470298', '3.37745oo0524']\n",
            "no of values 2\n"
          ]
        }
      ],
      "source": [
        "column_list = ['ph','Hardness','Chloramines','Conductivity','Organic_carbon','Trihalomethanes','Turbidity']\n",
        "\n",
        "for col in column_list:\n",
        "  non_numeric_elements1 = non_numeric(data_all[col])\n",
        "  print('*********')\n",
        "  print(col)\n",
        "  print(non_numeric_elements1)\n",
        "  print('no of values' , len(non_numeric_elements1))\n",
        "\n",
        "\n",
        "# there are many vlues which includes special character and string values we have to treat it"
      ]
    },
    {
      "cell_type": "code",
      "execution_count": null,
      "metadata": {
        "id": "z7hcTsbrd6od"
      },
      "outputs": [],
      "source": [
        "data_all.loc[data_all['ph']=='7.-.160467231','ph'] = 7.160467231\n",
        "data_all.loc[data_all['Hardness']=='214.496610%457156','Hardness'] = 214.496610457156\n",
        "data_all.loc[data_all['Hardness']==\"20''9.609618\",'Hardness'] = 209.609618\n",
        "\n",
        "\n",
        "# we have treated the oject values of ph and hardness\n",
        "\n"
      ]
    },
    {
      "cell_type": "code",
      "execution_count": null,
      "metadata": {
        "colab": {
          "base_uri": "https://localhost:8080/",
          "height": 226
        },
        "id": "cJ9mFkPhd6rb",
        "outputId": "3c5636a7-9c9e-462d-90be-6f75bf33cb6f"
      },
      "outputs": [
        {
          "output_type": "execute_result",
          "data": {
            "text/plain": [
              "            ph     Hardness       Solids  Chloramines     Sulfate  \\\n",
              "0          NaN  204.8904555  20791.31898  7.300211873  368.516441   \n",
              "1  3.716080075  129.4229205  18630.05786  6.635245884         NaN   \n",
              "2  8.099124189  224.2362594  19909.54173  9.275883603         NaN   \n",
              "3  8.316765884  214.3733941  22018.41744  8.059332377  356.886136   \n",
              "4  9.092223456  181.1015092  17978.98634  6.546599974  310.135738   \n",
              "\n",
              "  Conductivity Organic_carbon Trihalomethanes    Turbidity  Potability  \n",
              "0  564.3086542    10.37978308     86.99097046  2.963135381           0  \n",
              "1  592.8853591    15.18001312     56.32907628  4.500656275           0  \n",
              "2  418.6062131    16.86863693     66.42009251   3.05593375           0  \n",
              "3  363.2665162     18.4365245     100.3416744  4.628770537           0  \n",
              "4  398.4108134    11.55827944     31.99799273  4.075075425           0  "
            ],
            "text/html": [
              "\n",
              "  <div id=\"df-324ac400-49fa-4bff-869d-06584353e5fa\" class=\"colab-df-container\">\n",
              "    <div>\n",
              "<style scoped>\n",
              "    .dataframe tbody tr th:only-of-type {\n",
              "        vertical-align: middle;\n",
              "    }\n",
              "\n",
              "    .dataframe tbody tr th {\n",
              "        vertical-align: top;\n",
              "    }\n",
              "\n",
              "    .dataframe thead th {\n",
              "        text-align: right;\n",
              "    }\n",
              "</style>\n",
              "<table border=\"1\" class=\"dataframe\">\n",
              "  <thead>\n",
              "    <tr style=\"text-align: right;\">\n",
              "      <th></th>\n",
              "      <th>ph</th>\n",
              "      <th>Hardness</th>\n",
              "      <th>Solids</th>\n",
              "      <th>Chloramines</th>\n",
              "      <th>Sulfate</th>\n",
              "      <th>Conductivity</th>\n",
              "      <th>Organic_carbon</th>\n",
              "      <th>Trihalomethanes</th>\n",
              "      <th>Turbidity</th>\n",
              "      <th>Potability</th>\n",
              "    </tr>\n",
              "  </thead>\n",
              "  <tbody>\n",
              "    <tr>\n",
              "      <th>0</th>\n",
              "      <td>NaN</td>\n",
              "      <td>204.8904555</td>\n",
              "      <td>20791.31898</td>\n",
              "      <td>7.300211873</td>\n",
              "      <td>368.516441</td>\n",
              "      <td>564.3086542</td>\n",
              "      <td>10.37978308</td>\n",
              "      <td>86.99097046</td>\n",
              "      <td>2.963135381</td>\n",
              "      <td>0</td>\n",
              "    </tr>\n",
              "    <tr>\n",
              "      <th>1</th>\n",
              "      <td>3.716080075</td>\n",
              "      <td>129.4229205</td>\n",
              "      <td>18630.05786</td>\n",
              "      <td>6.635245884</td>\n",
              "      <td>NaN</td>\n",
              "      <td>592.8853591</td>\n",
              "      <td>15.18001312</td>\n",
              "      <td>56.32907628</td>\n",
              "      <td>4.500656275</td>\n",
              "      <td>0</td>\n",
              "    </tr>\n",
              "    <tr>\n",
              "      <th>2</th>\n",
              "      <td>8.099124189</td>\n",
              "      <td>224.2362594</td>\n",
              "      <td>19909.54173</td>\n",
              "      <td>9.275883603</td>\n",
              "      <td>NaN</td>\n",
              "      <td>418.6062131</td>\n",
              "      <td>16.86863693</td>\n",
              "      <td>66.42009251</td>\n",
              "      <td>3.05593375</td>\n",
              "      <td>0</td>\n",
              "    </tr>\n",
              "    <tr>\n",
              "      <th>3</th>\n",
              "      <td>8.316765884</td>\n",
              "      <td>214.3733941</td>\n",
              "      <td>22018.41744</td>\n",
              "      <td>8.059332377</td>\n",
              "      <td>356.886136</td>\n",
              "      <td>363.2665162</td>\n",
              "      <td>18.4365245</td>\n",
              "      <td>100.3416744</td>\n",
              "      <td>4.628770537</td>\n",
              "      <td>0</td>\n",
              "    </tr>\n",
              "    <tr>\n",
              "      <th>4</th>\n",
              "      <td>9.092223456</td>\n",
              "      <td>181.1015092</td>\n",
              "      <td>17978.98634</td>\n",
              "      <td>6.546599974</td>\n",
              "      <td>310.135738</td>\n",
              "      <td>398.4108134</td>\n",
              "      <td>11.55827944</td>\n",
              "      <td>31.99799273</td>\n",
              "      <td>4.075075425</td>\n",
              "      <td>0</td>\n",
              "    </tr>\n",
              "  </tbody>\n",
              "</table>\n",
              "</div>\n",
              "    <div class=\"colab-df-buttons\">\n",
              "\n",
              "  <div class=\"colab-df-container\">\n",
              "    <button class=\"colab-df-convert\" onclick=\"convertToInteractive('df-324ac400-49fa-4bff-869d-06584353e5fa')\"\n",
              "            title=\"Convert this dataframe to an interactive table.\"\n",
              "            style=\"display:none;\">\n",
              "\n",
              "  <svg xmlns=\"http://www.w3.org/2000/svg\" height=\"24px\" viewBox=\"0 -960 960 960\">\n",
              "    <path d=\"M120-120v-720h720v720H120Zm60-500h600v-160H180v160Zm220 220h160v-160H400v160Zm0 220h160v-160H400v160ZM180-400h160v-160H180v160Zm440 0h160v-160H620v160ZM180-180h160v-160H180v160Zm440 0h160v-160H620v160Z\"/>\n",
              "  </svg>\n",
              "    </button>\n",
              "\n",
              "  <style>\n",
              "    .colab-df-container {\n",
              "      display:flex;\n",
              "      gap: 12px;\n",
              "    }\n",
              "\n",
              "    .colab-df-convert {\n",
              "      background-color: #E8F0FE;\n",
              "      border: none;\n",
              "      border-radius: 50%;\n",
              "      cursor: pointer;\n",
              "      display: none;\n",
              "      fill: #1967D2;\n",
              "      height: 32px;\n",
              "      padding: 0 0 0 0;\n",
              "      width: 32px;\n",
              "    }\n",
              "\n",
              "    .colab-df-convert:hover {\n",
              "      background-color: #E2EBFA;\n",
              "      box-shadow: 0px 1px 2px rgba(60, 64, 67, 0.3), 0px 1px 3px 1px rgba(60, 64, 67, 0.15);\n",
              "      fill: #174EA6;\n",
              "    }\n",
              "\n",
              "    .colab-df-buttons div {\n",
              "      margin-bottom: 4px;\n",
              "    }\n",
              "\n",
              "    [theme=dark] .colab-df-convert {\n",
              "      background-color: #3B4455;\n",
              "      fill: #D2E3FC;\n",
              "    }\n",
              "\n",
              "    [theme=dark] .colab-df-convert:hover {\n",
              "      background-color: #434B5C;\n",
              "      box-shadow: 0px 1px 3px 1px rgba(0, 0, 0, 0.15);\n",
              "      filter: drop-shadow(0px 1px 2px rgba(0, 0, 0, 0.3));\n",
              "      fill: #FFFFFF;\n",
              "    }\n",
              "  </style>\n",
              "\n",
              "    <script>\n",
              "      const buttonEl =\n",
              "        document.querySelector('#df-324ac400-49fa-4bff-869d-06584353e5fa button.colab-df-convert');\n",
              "      buttonEl.style.display =\n",
              "        google.colab.kernel.accessAllowed ? 'block' : 'none';\n",
              "\n",
              "      async function convertToInteractive(key) {\n",
              "        const element = document.querySelector('#df-324ac400-49fa-4bff-869d-06584353e5fa');\n",
              "        const dataTable =\n",
              "          await google.colab.kernel.invokeFunction('convertToInteractive',\n",
              "                                                    [key], {});\n",
              "        if (!dataTable) return;\n",
              "\n",
              "        const docLinkHtml = 'Like what you see? Visit the ' +\n",
              "          '<a target=\"_blank\" href=https://colab.research.google.com/notebooks/data_table.ipynb>data table notebook</a>'\n",
              "          + ' to learn more about interactive tables.';\n",
              "        element.innerHTML = '';\n",
              "        dataTable['output_type'] = 'display_data';\n",
              "        await google.colab.output.renderOutput(dataTable, element);\n",
              "        const docLink = document.createElement('div');\n",
              "        docLink.innerHTML = docLinkHtml;\n",
              "        element.appendChild(docLink);\n",
              "      }\n",
              "    </script>\n",
              "  </div>\n",
              "\n",
              "\n",
              "<div id=\"df-43f87ebd-fc7e-4fb7-8140-4b8c6290217f\">\n",
              "  <button class=\"colab-df-quickchart\" onclick=\"quickchart('df-43f87ebd-fc7e-4fb7-8140-4b8c6290217f')\"\n",
              "            title=\"Suggest charts\"\n",
              "            style=\"display:none;\">\n",
              "\n",
              "<svg xmlns=\"http://www.w3.org/2000/svg\" height=\"24px\"viewBox=\"0 0 24 24\"\n",
              "     width=\"24px\">\n",
              "    <g>\n",
              "        <path d=\"M19 3H5c-1.1 0-2 .9-2 2v14c0 1.1.9 2 2 2h14c1.1 0 2-.9 2-2V5c0-1.1-.9-2-2-2zM9 17H7v-7h2v7zm4 0h-2V7h2v10zm4 0h-2v-4h2v4z\"/>\n",
              "    </g>\n",
              "</svg>\n",
              "  </button>\n",
              "\n",
              "<style>\n",
              "  .colab-df-quickchart {\n",
              "      --bg-color: #E8F0FE;\n",
              "      --fill-color: #1967D2;\n",
              "      --hover-bg-color: #E2EBFA;\n",
              "      --hover-fill-color: #174EA6;\n",
              "      --disabled-fill-color: #AAA;\n",
              "      --disabled-bg-color: #DDD;\n",
              "  }\n",
              "\n",
              "  [theme=dark] .colab-df-quickchart {\n",
              "      --bg-color: #3B4455;\n",
              "      --fill-color: #D2E3FC;\n",
              "      --hover-bg-color: #434B5C;\n",
              "      --hover-fill-color: #FFFFFF;\n",
              "      --disabled-bg-color: #3B4455;\n",
              "      --disabled-fill-color: #666;\n",
              "  }\n",
              "\n",
              "  .colab-df-quickchart {\n",
              "    background-color: var(--bg-color);\n",
              "    border: none;\n",
              "    border-radius: 50%;\n",
              "    cursor: pointer;\n",
              "    display: none;\n",
              "    fill: var(--fill-color);\n",
              "    height: 32px;\n",
              "    padding: 0;\n",
              "    width: 32px;\n",
              "  }\n",
              "\n",
              "  .colab-df-quickchart:hover {\n",
              "    background-color: var(--hover-bg-color);\n",
              "    box-shadow: 0 1px 2px rgba(60, 64, 67, 0.3), 0 1px 3px 1px rgba(60, 64, 67, 0.15);\n",
              "    fill: var(--button-hover-fill-color);\n",
              "  }\n",
              "\n",
              "  .colab-df-quickchart-complete:disabled,\n",
              "  .colab-df-quickchart-complete:disabled:hover {\n",
              "    background-color: var(--disabled-bg-color);\n",
              "    fill: var(--disabled-fill-color);\n",
              "    box-shadow: none;\n",
              "  }\n",
              "\n",
              "  .colab-df-spinner {\n",
              "    border: 2px solid var(--fill-color);\n",
              "    border-color: transparent;\n",
              "    border-bottom-color: var(--fill-color);\n",
              "    animation:\n",
              "      spin 1s steps(1) infinite;\n",
              "  }\n",
              "\n",
              "  @keyframes spin {\n",
              "    0% {\n",
              "      border-color: transparent;\n",
              "      border-bottom-color: var(--fill-color);\n",
              "      border-left-color: var(--fill-color);\n",
              "    }\n",
              "    20% {\n",
              "      border-color: transparent;\n",
              "      border-left-color: var(--fill-color);\n",
              "      border-top-color: var(--fill-color);\n",
              "    }\n",
              "    30% {\n",
              "      border-color: transparent;\n",
              "      border-left-color: var(--fill-color);\n",
              "      border-top-color: var(--fill-color);\n",
              "      border-right-color: var(--fill-color);\n",
              "    }\n",
              "    40% {\n",
              "      border-color: transparent;\n",
              "      border-right-color: var(--fill-color);\n",
              "      border-top-color: var(--fill-color);\n",
              "    }\n",
              "    60% {\n",
              "      border-color: transparent;\n",
              "      border-right-color: var(--fill-color);\n",
              "    }\n",
              "    80% {\n",
              "      border-color: transparent;\n",
              "      border-right-color: var(--fill-color);\n",
              "      border-bottom-color: var(--fill-color);\n",
              "    }\n",
              "    90% {\n",
              "      border-color: transparent;\n",
              "      border-bottom-color: var(--fill-color);\n",
              "    }\n",
              "  }\n",
              "</style>\n",
              "\n",
              "  <script>\n",
              "    async function quickchart(key) {\n",
              "      const quickchartButtonEl =\n",
              "        document.querySelector('#' + key + ' button');\n",
              "      quickchartButtonEl.disabled = true;  // To prevent multiple clicks.\n",
              "      quickchartButtonEl.classList.add('colab-df-spinner');\n",
              "      try {\n",
              "        const charts = await google.colab.kernel.invokeFunction(\n",
              "            'suggestCharts', [key], {});\n",
              "      } catch (error) {\n",
              "        console.error('Error during call to suggestCharts:', error);\n",
              "      }\n",
              "      quickchartButtonEl.classList.remove('colab-df-spinner');\n",
              "      quickchartButtonEl.classList.add('colab-df-quickchart-complete');\n",
              "    }\n",
              "    (() => {\n",
              "      let quickchartButtonEl =\n",
              "        document.querySelector('#df-43f87ebd-fc7e-4fb7-8140-4b8c6290217f button');\n",
              "      quickchartButtonEl.style.display =\n",
              "        google.colab.kernel.accessAllowed ? 'block' : 'none';\n",
              "    })();\n",
              "  </script>\n",
              "</div>\n",
              "\n",
              "    </div>\n",
              "  </div>\n"
            ],
            "application/vnd.google.colaboratory.intrinsic+json": {
              "type": "dataframe",
              "variable_name": "data_all",
              "summary": "{\n  \"name\": \"data_all\",\n  \"rows\": 3276,\n  \"fields\": [\n    {\n      \"column\": \"ph\",\n      \"properties\": {\n        \"dtype\": \"string\",\n        \"num_unique_values\": 2785,\n        \"samples\": [\n          \"6.569053876\",\n          \"9.271355447\",\n          \"8.927905926\"\n        ],\n        \"semantic_type\": \"\",\n        \"description\": \"\"\n      }\n    },\n    {\n      \"column\": \"Hardness\",\n      \"properties\": {\n        \"dtype\": \"string\",\n        \"num_unique_values\": 3276,\n        \"samples\": [\n          \"183.521107\",\n          \"188.9135411\",\n          \"224.0588768\"\n        ],\n        \"semantic_type\": \"\",\n        \"description\": \"\"\n      }\n    },\n    {\n      \"column\": \"Solids\",\n      \"properties\": {\n        \"dtype\": \"string\",\n        \"num_unique_values\": 3276,\n        \"samples\": [\n          \"20461.25271\",\n          \"32873.82002\",\n          \"23264.10997\"\n        ],\n        \"semantic_type\": \"\",\n        \"description\": \"\"\n      }\n    },\n    {\n      \"column\": \"Chloramines\",\n      \"properties\": {\n        \"dtype\": \"string\",\n        \"num_unique_values\": 3276,\n        \"samples\": [\n          \"7.333212178\",\n          \"6.791509363\",\n          \"5.922367041\"\n        ],\n        \"semantic_type\": \"\",\n        \"description\": \"\"\n      }\n    },\n    {\n      \"column\": \"Sulfate\",\n      \"properties\": {\n        \"dtype\": \"number\",\n        \"std\": 41.416840461660584,\n        \"min\": 129.0,\n        \"max\": 481.0306423,\n        \"num_unique_values\": 2495,\n        \"samples\": [\n          324.6440796,\n          370.1213847,\n          329.1277384\n        ],\n        \"semantic_type\": \"\",\n        \"description\": \"\"\n      }\n    },\n    {\n      \"column\": \"Conductivity\",\n      \"properties\": {\n        \"dtype\": \"string\",\n        \"num_unique_values\": 3276,\n        \"samples\": [\n          \"356.3690224\",\n          \"336.561501\",\n          \"387.9713358\"\n        ],\n        \"semantic_type\": \"\",\n        \"description\": \"\"\n      }\n    },\n    {\n      \"column\": \"Organic_carbon\",\n      \"properties\": {\n        \"dtype\": \"string\",\n        \"num_unique_values\": 3276,\n        \"samples\": [\n          \"20.17902887\",\n          \"14.70681031\",\n          \"13.40673745\"\n        ],\n        \"semantic_type\": \"\",\n        \"description\": \"\"\n      }\n    },\n    {\n      \"column\": \"Trihalomethanes\",\n      \"properties\": {\n        \"dtype\": \"string\",\n        \"num_unique_values\": 3114,\n        \"samples\": [\n          \"66.16343924\",\n          \"42.84451085\",\n          \"47.0663922\"\n        ],\n        \"semantic_type\": \"\",\n        \"description\": \"\"\n      }\n    },\n    {\n      \"column\": \"Turbidity\",\n      \"properties\": {\n        \"dtype\": \"string\",\n        \"num_unique_values\": 3276,\n        \"samples\": [\n          \"4.886633785\",\n          \"4.562197671\",\n          \"2.487968647\"\n        ],\n        \"semantic_type\": \"\",\n        \"description\": \"\"\n      }\n    },\n    {\n      \"column\": \"Potability\",\n      \"properties\": {\n        \"dtype\": \"number\",\n        \"std\": 0,\n        \"min\": 0,\n        \"max\": 1,\n        \"num_unique_values\": 2,\n        \"samples\": [\n          1,\n          0\n        ],\n        \"semantic_type\": \"\",\n        \"description\": \"\"\n      }\n    }\n  ]\n}"
            }
          },
          "metadata": {},
          "execution_count": 18
        }
      ],
      "source": [
        "data_all.head()"
      ]
    },
    {
      "cell_type": "code",
      "execution_count": null,
      "metadata": {
        "colab": {
          "base_uri": "https://localhost:8080/"
        },
        "id": "nlNzSel-d6vC",
        "outputId": "80559883-b753-4757-b8cc-28fedcbd53b5"
      },
      "outputs": [
        {
          "output_type": "stream",
          "name": "stdout",
          "text": [
            "Error cleaning string: expected string or bytes-like object\n",
            "Error cleaning string: expected string or bytes-like object\n",
            "******\n",
            "Hardness\n",
            "0       204.890456\n",
            "1       129.422921\n",
            "2       224.236259\n",
            "3       214.373394\n",
            "4       181.101509\n",
            "           ...    \n",
            "3271    193.681736\n",
            "3272    193.553212\n",
            "3273    175.762646\n",
            "3274    230.603758\n",
            "3275    195.102299\n",
            "Name: Hardness, Length: 3276, dtype: float64\n",
            "******\n",
            "Chloramines\n",
            "0       7.300212\n",
            "1       6.635246\n",
            "2       9.275884\n",
            "3       8.059332\n",
            "4       6.546600\n",
            "          ...   \n",
            "3271    7.166639\n",
            "3272    8.061362\n",
            "3273    7.350233\n",
            "3274    6.303357\n",
            "3275    7.509306\n",
            "Name: Chloramines, Length: 3276, dtype: float64\n",
            "******\n",
            "Conductivity\n",
            "0       564.308654\n",
            "1       592.885359\n",
            "2       418.606213\n",
            "3       363.266516\n",
            "4       398.410813\n",
            "           ...    \n",
            "3271    526.424171\n",
            "3272    392.449580\n",
            "3273    432.044783\n",
            "3274    402.883113\n",
            "3275    327.459761\n",
            "Name: Conductivity, Length: 3276, dtype: float64\n",
            "******\n",
            "Organic_carbon\n",
            "0       10.379783\n",
            "1       15.180013\n",
            "2       16.868637\n",
            "3       18.436525\n",
            "4       11.558279\n",
            "          ...    \n",
            "3271    13.894419\n",
            "3272    19.903225\n",
            "3273    11.039070\n",
            "3274    11.168946\n",
            "3275    16.140368\n",
            "Name: Organic_carbon, Length: 3276, dtype: float64\n",
            "******\n",
            "Turbidity\n",
            "0       2.963135\n",
            "1       4.500656\n",
            "2       3.055934\n",
            "3       4.628771\n",
            "4       4.075075\n",
            "          ...   \n",
            "3271    4.435821\n",
            "3272    2.798243\n",
            "3273    3.298875\n",
            "3274    4.708658\n",
            "3275    2.309149\n",
            "Name: Turbidity, Length: 3276, dtype: float64\n"
          ]
        }
      ],
      "source": [
        "def object_to_float(s):\n",
        "  ''' This script defines a function called convert_to_float, which first cleans the string by using re.sub/\n",
        "   to remove any characters other than digits or dots, and then transforms it back to a float. '''\n",
        "\n",
        "  empty_string = ''\n",
        "\n",
        "    # Attempt to clean the string\n",
        "  try:\n",
        "      empty_string = re.sub(r'[^\\d.]', '', s)\n",
        "  except Exception as e:\n",
        "        print(f\"Error cleaning string: {e}\")\n",
        "\n",
        "  return float(empty_string) if empty_string else None\n",
        "\n",
        "#Apply the conversion function to the specified column\n",
        "column_list = ['Hardness','Chloramines','Conductivity','Organic_carbon','Turbidity']\n",
        "for col in column_list:\n",
        "  data_all[col] = data_all[col].apply(lambda x: object_to_float(x))\n",
        "  print('******')\n",
        "  print(col)\n",
        "  print(data_all[col])"
      ]
    },
    {
      "cell_type": "code",
      "execution_count": null,
      "metadata": {
        "colab": {
          "base_uri": "https://localhost:8080/"
        },
        "id": "ZdB0rh3DprW4",
        "outputId": "0b0d9761-5f8e-4ca0-fa75-0bd0ba39d24b"
      },
      "outputs": [
        {
          "output_type": "stream",
          "name": "stdout",
          "text": [
            "<class 'pandas.core.frame.DataFrame'>\n",
            "RangeIndex: 3276 entries, 0 to 3275\n",
            "Data columns (total 10 columns):\n",
            " #   Column           Non-Null Count  Dtype  \n",
            "---  ------           --------------  -----  \n",
            " 0   ph               2785 non-null   object \n",
            " 1   Hardness         3274 non-null   float64\n",
            " 2   Solids           3276 non-null   object \n",
            " 3   Chloramines      3276 non-null   float64\n",
            " 4   Sulfate          2495 non-null   float64\n",
            " 5   Conductivity     3276 non-null   float64\n",
            " 6   Organic_carbon   3276 non-null   float64\n",
            " 7   Trihalomethanes  3114 non-null   object \n",
            " 8   Turbidity        3276 non-null   float64\n",
            " 9   Potability       3276 non-null   int64  \n",
            "dtypes: float64(6), int64(1), object(3)\n",
            "memory usage: 256.1+ KB\n"
          ]
        }
      ],
      "source": [
        "data_all.info()"
      ]
    },
    {
      "cell_type": "code",
      "execution_count": null,
      "metadata": {
        "colab": {
          "base_uri": "https://localhost:8080/"
        },
        "id": "Q41VuYkZprZ-",
        "outputId": "5f62fa8c-0284-4773-e8f2-7dbf66d91715"
      },
      "outputs": [
        {
          "output_type": "stream",
          "name": "stdout",
          "text": [
            "0       20791.31898\n",
            "1       18630.05786\n",
            "2       19909.54173\n",
            "3       22018.41744\n",
            "4       17978.98634\n",
            "           ...     \n",
            "3271    47580.99160\n",
            "3272    17329.80216\n",
            "3273    33155.57822\n",
            "3274    11983.86938\n",
            "3275    17404.17706\n",
            "Name: Solids, Length: 3276, dtype: float64\n",
            "**********************************\n",
            "0            NaN\n",
            "1       3.716080\n",
            "2       8.099124\n",
            "3       8.316766\n",
            "4       9.092223\n",
            "          ...   \n",
            "3271    4.668102\n",
            "3272    7.808856\n",
            "3273    9.419510\n",
            "3274    5.126763\n",
            "3275    7.874671\n",
            "Name: ph, Length: 3276, dtype: float64\n",
            "**********************************\n",
            "0        86.990970\n",
            "1        56.329076\n",
            "2        66.420093\n",
            "3       100.341674\n",
            "4        31.997993\n",
            "           ...    \n",
            "3271     66.687695\n",
            "3272           NaN\n",
            "3273     69.845400\n",
            "3274     77.488213\n",
            "3275     78.698446\n",
            "Name: Trihalomethanes, Length: 3276, dtype: float64\n",
            "**********************************\n"
          ]
        }
      ],
      "source": [
        "def convert_to_float(s):\n",
        "    if pd.isnull(s) or not isinstance(s, str):\n",
        "        return None\n",
        "\n",
        "    # Remove non-digit and non-dot characters\n",
        "    cleaned_string = re.sub(r'[^\\d.]', '', s)\n",
        "\n",
        "    #print(f\"Original: {s}, Cleaned: {cleaned_string}\")\n",
        "\n",
        "    # Convert to float\n",
        "    try:\n",
        "        return float(cleaned_string)\n",
        "    except ValueError:\n",
        "        return None\n",
        "data_column = ['Solids','ph','Trihalomethanes']\n",
        "for col in data_column:\n",
        "# Apply the conversion function to each column in data_column\n",
        "\n",
        "  data_all[col] = data_all[col].apply(lambda x: convert_to_float(x))\n",
        "#data_all['Solids'] = data_all['Solids'].apply(lambda x: convert_to_float(x))\n",
        "\n",
        "# Print the DataFrame with converted values\n",
        "  print(data_all[col])\n",
        "  print('**********************************')"
      ]
    },
    {
      "cell_type": "code",
      "execution_count": null,
      "metadata": {
        "colab": {
          "base_uri": "https://localhost:8080/"
        },
        "id": "_vdzurR7prc1",
        "outputId": "3bb65e64-4fd2-4dbb-a489-df7fbaf91f2f"
      },
      "outputs": [
        {
          "output_type": "stream",
          "name": "stdout",
          "text": [
            "<class 'pandas.core.frame.DataFrame'>\n",
            "RangeIndex: 3276 entries, 0 to 3275\n",
            "Data columns (total 10 columns):\n",
            " #   Column           Non-Null Count  Dtype  \n",
            "---  ------           --------------  -----  \n",
            " 0   ph               2784 non-null   float64\n",
            " 1   Hardness         3274 non-null   float64\n",
            " 2   Solids           3275 non-null   float64\n",
            " 3   Chloramines      3276 non-null   float64\n",
            " 4   Sulfate          2495 non-null   float64\n",
            " 5   Conductivity     3276 non-null   float64\n",
            " 6   Organic_carbon   3276 non-null   float64\n",
            " 7   Trihalomethanes  3114 non-null   float64\n",
            " 8   Turbidity        3276 non-null   float64\n",
            " 9   Potability       3276 non-null   int64  \n",
            "dtypes: float64(9), int64(1)\n",
            "memory usage: 256.1 KB\n"
          ]
        }
      ],
      "source": [
        "data_all.info()                 # changed to datatype of columns object to float"
      ]
    },
    {
      "cell_type": "code",
      "execution_count": null,
      "metadata": {
        "colab": {
          "base_uri": "https://localhost:8080/"
        },
        "id": "Bf0FgOHiprfp",
        "outputId": "a4990eb6-0477-4f93-d754-f4a95bb133c2"
      },
      "outputs": [
        {
          "output_type": "execute_result",
          "data": {
            "text/plain": [
              "ph                 492\n",
              "Hardness             2\n",
              "Solids               1\n",
              "Chloramines          0\n",
              "Sulfate            781\n",
              "Conductivity         0\n",
              "Organic_carbon       0\n",
              "Trihalomethanes    162\n",
              "Turbidity            0\n",
              "Potability           0\n",
              "dtype: int64"
            ]
          },
          "metadata": {},
          "execution_count": 23
        }
      ],
      "source": [
        "# null value treatement\n",
        "data_all.isnull().sum()\n"
      ]
    },
    {
      "cell_type": "code",
      "execution_count": null,
      "metadata": {
        "colab": {
          "base_uri": "https://localhost:8080/"
        },
        "id": "Nu8dZ1uWjJ95",
        "outputId": "1e5fdfa7-b02d-49ae-c54f-c8525a9c1ef9"
      },
      "outputs": [
        {
          "output_type": "execute_result",
          "data": {
            "text/plain": [
              "count    2784.000000\n",
              "mean        7.080766\n",
              "std         1.594605\n",
              "min         0.000000\n",
              "25%         6.092665\n",
              "50%         7.035894\n",
              "75%         8.062251\n",
              "max        14.000000\n",
              "Name: ph, dtype: float64"
            ]
          },
          "metadata": {},
          "execution_count": 24
        }
      ],
      "source": [
        "data_all['ph'].describe()"
      ]
    },
    {
      "cell_type": "code",
      "execution_count": null,
      "metadata": {
        "id": "lw_lySTcjKBX"
      },
      "outputs": [],
      "source": []
    },
    {
      "cell_type": "code",
      "execution_count": null,
      "metadata": {
        "id": "gNUZ-IbQjKaQ"
      },
      "outputs": [],
      "source": []
    },
    {
      "cell_type": "code",
      "execution_count": null,
      "metadata": {
        "colab": {
          "base_uri": "https://localhost:8080/"
        },
        "id": "23iUwDNpprjO",
        "outputId": "c136c7cd-5a1c-426e-fcc4-9cb10638c8f0"
      },
      "outputs": [
        {
          "output_type": "execute_result",
          "data": {
            "text/plain": [
              "ph                  0.025680\n",
              "Hardness           -0.038535\n",
              "Solids              0.621175\n",
              "Chloramines        57.229356\n",
              "Sulfate            -0.035947\n",
              "Conductivity        0.264490\n",
              "Organic_carbon     52.420198\n",
              "Trihalomethanes    -0.083031\n",
              "Turbidity          -0.007817\n",
              "Potability          2.610286\n",
              "dtype: float64"
            ]
          },
          "metadata": {},
          "execution_count": 25
        }
      ],
      "source": [
        "# checking skewness\n",
        "data_all.skew()                # 3 features has skewness majorly chloramines organic_carbon and solids"
      ]
    },
    {
      "cell_type": "code",
      "execution_count": null,
      "metadata": {
        "colab": {
          "base_uri": "https://localhost:8080/",
          "height": 673
        },
        "id": "Rgs4kphYprtL",
        "outputId": "0f4801b1-e404-43d5-e3c3-79e32fb1dc40"
      },
      "outputs": [
        {
          "output_type": "stream",
          "name": "stderr",
          "text": [
            "<ipython-input-26-bc38baf7ffd7>:1: UserWarning: \n",
            "\n",
            "`distplot` is a deprecated function and will be removed in seaborn v0.14.0.\n",
            "\n",
            "Please adapt your code to use either `displot` (a figure-level function with\n",
            "similar flexibility) or `histplot` (an axes-level function for histograms).\n",
            "\n",
            "For a guide to updating your code to use the new functions, please see\n",
            "https://gist.github.com/mwaskom/de44147ed2974457ad6372750bbe5751\n",
            "\n",
            "  sns.distplot(data_all['Solids'])\n"
          ]
        },
        {
          "output_type": "execute_result",
          "data": {
            "text/plain": [
              "<Axes: xlabel='Solids', ylabel='Density'>"
            ]
          },
          "metadata": {},
          "execution_count": 26
        },
        {
          "output_type": "display_data",
          "data": {
            "text/plain": [
              "<Figure size 640x480 with 1 Axes>"
            ],
            "image/png": "[encoded data removed]"
          },
          "metadata": {}
        }
      ],
      "source": [
        "sns.distplot(data_all['Solids'])"
      ]
    },
    {
      "cell_type": "code",
      "execution_count": null,
      "metadata": {
        "colab": {
          "base_uri": "https://localhost:8080/",
          "height": 657
        },
        "id": "89HO7nj2prwr",
        "outputId": "ffc7ef12-253c-4b80-ce95-020829e7305d"
      },
      "outputs": [
        {
          "output_type": "stream",
          "name": "stderr",
          "text": [
            "<ipython-input-27-7118fc3643da>:1: UserWarning: \n",
            "\n",
            "`distplot` is a deprecated function and will be removed in seaborn v0.14.0.\n",
            "\n",
            "Please adapt your code to use either `displot` (a figure-level function with\n",
            "similar flexibility) or `histplot` (an axes-level function for histograms).\n",
            "\n",
            "For a guide to updating your code to use the new functions, please see\n",
            "https://gist.github.com/mwaskom/de44147ed2974457ad6372750bbe5751\n",
            "\n",
            "  sns.distplot(data_all['Chloramines'])\n"
          ]
        },
        {
          "output_type": "execute_result",
          "data": {
            "text/plain": [
              "<Axes: xlabel='Chloramines', ylabel='Density'>"
            ]
          },
          "metadata": {},
          "execution_count": 27
        },
        {
          "output_type": "display_data",
          "data": {
            "text/plain": [
              "<Figure size 640x480 with 1 Axes>"
            ],
            "image/png": "[encoded data removed]"
          },
          "metadata": {}
        }
      ],
      "source": [
        "sns.distplot(data_all['Chloramines'])\n"
      ]
    },
    {
      "cell_type": "code",
      "execution_count": null,
      "metadata": {
        "colab": {
          "base_uri": "https://localhost:8080/",
          "height": 658
        },
        "id": "zFhq-TLTmsCs",
        "outputId": "cbb5c77a-5697-4369-a1e6-78305526f617"
      },
      "outputs": [
        {
          "output_type": "stream",
          "name": "stderr",
          "text": [
            "<ipython-input-28-a1f99fcfdda3>:1: UserWarning: \n",
            "\n",
            "`distplot` is a deprecated function and will be removed in seaborn v0.14.0.\n",
            "\n",
            "Please adapt your code to use either `displot` (a figure-level function with\n",
            "similar flexibility) or `histplot` (an axes-level function for histograms).\n",
            "\n",
            "For a guide to updating your code to use the new functions, please see\n",
            "https://gist.github.com/mwaskom/de44147ed2974457ad6372750bbe5751\n",
            "\n",
            "  sns.distplot(data_all['Organic_carbon'])\n"
          ]
        },
        {
          "output_type": "execute_result",
          "data": {
            "text/plain": [
              "<Axes: xlabel='Organic_carbon', ylabel='Density'>"
            ]
          },
          "metadata": {},
          "execution_count": 28
        },
        {
          "output_type": "display_data",
          "data": {
            "text/plain": [
              "<Figure size 640x480 with 1 Axes>"
            ],
            "image/png": "[encoded data removed]"
          },
          "metadata": {}
        }
      ],
      "source": [
        "sns.distplot(data_all['Organic_carbon'])"
      ]
    },
    {
      "cell_type": "code",
      "execution_count": null,
      "metadata": {
        "colab": {
          "base_uri": "https://localhost:8080/",
          "height": 141
        },
        "id": "IhDt-ySVU7Ph",
        "outputId": "7c886c4a-e75a-4a01-d44e-771259788e7a"
      },
      "outputs": [
        {
          "output_type": "error",
          "ename": "NameError",
          "evalue": "name 'column_list1' is not defined",
          "traceback": [
            "\u001b[0;31m---------------------------------------------------------------------------\u001b[0m",
            "\u001b[0;31mNameError\u001b[0m                                 Traceback (most recent call last)",
            "\u001b[0;32m<ipython-input-29-82ffc731049b>\u001b[0m in \u001b[0;36m<cell line: 1>\u001b[0;34m()\u001b[0m\n\u001b[0;32m----> 1\u001b[0;31m \u001b[0msns\u001b[0m\u001b[0;34m.\u001b[0m\u001b[0mheatmap\u001b[0m\u001b[0;34m(\u001b[0m\u001b[0mdata_all\u001b[0m\u001b[0;34m[\u001b[0m\u001b[0mcolumn_list1\u001b[0m\u001b[0;34m]\u001b[0m\u001b[0;34m.\u001b[0m\u001b[0mcorr\u001b[0m\u001b[0;34m(\u001b[0m\u001b[0;34m)\u001b[0m\u001b[0;34m)\u001b[0m\u001b[0;34m\u001b[0m\u001b[0;34m\u001b[0m\u001b[0m\n\u001b[0m",
            "\u001b[0;31mNameError\u001b[0m: name 'column_list1' is not defined"
          ]
        }
      ],
      "source": [
        "sns.heatmap(data_all[column_list1].corr())"
      ]
    },
    {
      "cell_type": "code",
      "execution_count": null,
      "metadata": {
        "id": "_fxwdK9oV4rv"
      },
      "outputs": [],
      "source": [
        "data_all[column_list1].corr()\n"
      ]
    },
    {
      "cell_type": "code",
      "execution_count": null,
      "metadata": {
        "id": "W_tS-zLuWFJn"
      },
      "outputs": [],
      "source": [
        "column_list1=['ph','Hardness','Solids','Chloramines','Sulfate','Conductivity','Organic_carbon','Trihalomethanes','Turbidity']"
      ]
    },
    {
      "cell_type": "code",
      "execution_count": null,
      "metadata": {
        "id": "mEVxcIgkifKB"
      },
      "outputs": [],
      "source": [
        "data_all.loc[data_all['ph'].isna(),'ph'] = np.mean(data_all['ph'])\n",
        "   # changing the null to mean values bcz data is almost normally distributed"
      ]
    },
    {
      "cell_type": "code",
      "execution_count": null,
      "metadata": {
        "id": "a9RaKJVBifMt"
      },
      "outputs": [],
      "source": [
        "data_all.loc[data_all['Hardness'].isna(), 'Hardness'] = np.mean(data_all['Hardness'])\n",
        "     # changing the null to mean values bcz data is almost normally distributed\n"
      ]
    },
    {
      "cell_type": "code",
      "execution_count": null,
      "metadata": {
        "colab": {
          "base_uri": "https://localhost:8080/"
        },
        "id": "V9XMiQsgnHWH",
        "outputId": "e3cea743-fd06-46ef-e24f-10eee6f06401"
      },
      "outputs": [
        {
          "output_type": "execute_result",
          "data": {
            "text/plain": [
              "count     3275.000000\n",
              "mean     22015.542139\n",
              "std       8769.517230\n",
              "min        320.942611\n",
              "25%      15665.106980\n",
              "50%      20933.512750\n",
              "75%      27334.162290\n",
              "max      61227.196010\n",
              "Name: Solids, dtype: float64"
            ]
          },
          "metadata": {},
          "execution_count": 33
        }
      ],
      "source": [
        "data_all['Solids'].describe()"
      ]
    },
    {
      "cell_type": "code",
      "execution_count": null,
      "metadata": {
        "id": "eEtGyn47ifPh"
      },
      "outputs": [],
      "source": [
        "data_all.loc[data_all['Solids'].isna(),'Solids'] =21200\n",
        "    # changing the null value to 21200 because there is siome little skewness"
      ]
    },
    {
      "cell_type": "code",
      "execution_count": null,
      "metadata": {
        "id": "x-o2Urm6ifS3"
      },
      "outputs": [],
      "source": [
        "data_all.loc[data_all['Sulfate'].isna(),'Sulfate'] = np.mean(data_all['Sulfate'])\n",
        "      # changing the null to mean values bcz data is almost normally distributed"
      ]
    },
    {
      "cell_type": "code",
      "execution_count": null,
      "metadata": {
        "id": "l2t-FoXZifVd"
      },
      "outputs": [],
      "source": [
        "data_all.loc[data_all['Trihalomethanes'].isna(),'Trihalomethanes'] = np.mean(data_all['Trihalomethanes'])\n",
        "      # changing the null to mean values bcz data is almost normally distributed"
      ]
    },
    {
      "cell_type": "code",
      "execution_count": null,
      "metadata": {
        "colab": {
          "base_uri": "https://localhost:8080/"
        },
        "id": "SIV3oJSEifYX",
        "outputId": "abe92e93-6d75-463b-a868-c2d1a3c83e58"
      },
      "outputs": [
        {
          "output_type": "stream",
          "name": "stdout",
          "text": [
            "<class 'pandas.core.frame.DataFrame'>\n",
            "RangeIndex: 3276 entries, 0 to 3275\n",
            "Data columns (total 10 columns):\n",
            " #   Column           Non-Null Count  Dtype  \n",
            "---  ------           --------------  -----  \n",
            " 0   ph               3276 non-null   float64\n",
            " 1   Hardness         3274 non-null   float64\n",
            " 2   Solids           3275 non-null   float64\n",
            " 3   Chloramines      3276 non-null   float64\n",
            " 4   Sulfate          2495 non-null   float64\n",
            " 5   Conductivity     3276 non-null   float64\n",
            " 6   Organic_carbon   3276 non-null   float64\n",
            " 7   Trihalomethanes  3114 non-null   float64\n",
            " 8   Turbidity        3276 non-null   float64\n",
            " 9   Potability       3276 non-null   int64  \n",
            "dtypes: float64(9), int64(1)\n",
            "memory usage: 256.1 KB\n"
          ]
        }
      ],
      "source": [
        "data_all.info()\n",
        " # all the null value has been treated\n"
      ]
    },
    {
      "cell_type": "code",
      "execution_count": null,
      "metadata": {
        "colab": {
          "base_uri": "https://localhost:8080/"
        },
        "id": "XDh1UJE8ifbO",
        "outputId": "12dd3ec3-03bc-4267-b34d-5b5a4dde1d23"
      },
      "outputs": [
        {
          "output_type": "execute_result",
          "data": {
            "text/plain": [
              "ph                  0.027854\n",
              "Hardness           -0.038535\n",
              "Solids              0.621175\n",
              "Chloramines        57.229356\n",
              "Sulfate            -0.035947\n",
              "Conductivity        0.264490\n",
              "Organic_carbon     52.420198\n",
              "Trihalomethanes    -0.083031\n",
              "Turbidity          -0.007817\n",
              "Potability          2.610286\n",
              "dtype: float64"
            ]
          },
          "metadata": {},
          "execution_count": 35
        }
      ],
      "source": [
        "data_all.skew()"
      ]
    },
    {
      "cell_type": "code",
      "execution_count": null,
      "metadata": {
        "colab": {
          "base_uri": "https://localhost:8080/",
          "height": 842
        },
        "id": "Pb0-FCAtifd1",
        "outputId": "a3633bba-6284-4171-b6c1-2b82876713f8"
      },
      "outputs": [
        {
          "output_type": "display_data",
          "data": {
            "text/plain": [
              "<Figure size 2000x2000 with 10 Axes>"
            ],
            "image/png": "[encoded data removed]"
          },
          "metadata": {}
        }
      ],
      "source": [
        "from matplotlib import pyplot as plt\n",
        "\n",
        "numeric_cols = data_all.select_dtypes(include = np.number) ### selects numeric columns\n",
        "\n",
        "column_names = list(numeric_cols.columns)\n",
        "\n",
        "col_index = 0\n",
        "\n",
        "plot_rows = 5\n",
        "plot_cols = 2\n",
        "\n",
        "fig, ax = plt.subplots(nrows = plot_rows,ncols=plot_cols,figsize = (20,20))\n",
        "\n",
        "for row_count in range(plot_rows):\n",
        "    for col_count in range(plot_cols):\n",
        "        ax[row_count][col_count].scatter(y = numeric_cols[column_names[col_index]],x=numeric_cols.index)\n",
        "        ax[row_count][col_count].set_ylabel(column_names[col_index])\n",
        "        col_index = col_index + 1"
      ]
    },
    {
      "cell_type": "code",
      "execution_count": null,
      "metadata": {
        "id": "G9wSA80mifge"
      },
      "outputs": [],
      "source": [
        "# two columns has outliers\n",
        "#1 organic_carbon\n",
        "#2 chloramines\n",
        "# as we have seen above these two columns were right skewed also\n",
        "# and the needs to be scaled also"
      ]
    },
    {
      "cell_type": "code",
      "execution_count": null,
      "metadata": {
        "id": "b8gITApMifjV"
      },
      "outputs": [],
      "source": [
        "#outliers treatment\n",
        "data_all.loc[data_all['Organic_carbon']>2000 , 'Organic_carbon'] = 16.560201   #changing it to 75th percentile\n"
      ]
    },
    {
      "cell_type": "code",
      "execution_count": null,
      "metadata": {
        "id": "62BYCV37qBLK"
      },
      "outputs": [],
      "source": [
        "data_all['Organic_carbon'].describe()"
      ]
    },
    {
      "cell_type": "code",
      "execution_count": null,
      "metadata": {
        "id": "KWQfccu8qBO0"
      },
      "outputs": [],
      "source": [
        "data_all.loc[data_all['Chloramines']>2000 , 'Chloramines'] = 8.115458  #changing it to 75th percentile"
      ]
    },
    {
      "cell_type": "code",
      "execution_count": null,
      "metadata": {
        "id": "07ba3yp-qBUp"
      },
      "outputs": [],
      "source": [
        "data_all['Chloramines'].describe()"
      ]
    },
    {
      "cell_type": "code",
      "execution_count": null,
      "metadata": {
        "id": "X8kgeDy1p44N"
      },
      "outputs": [],
      "source": [
        "data_all.skew()\n",
        "                                             # there is little bit skewness in some columns , lets treat in next iteration\n"
      ]
    },
    {
      "cell_type": "code",
      "execution_count": null,
      "metadata": {
        "id": "xK-4xXJ0rGyE"
      },
      "outputs": [],
      "source": [
        "data_all.head(20)        # the data is quite sorted now"
      ]
    },
    {
      "cell_type": "code",
      "execution_count": null,
      "metadata": {
        "id": "PjG4NlKerG42"
      },
      "outputs": [],
      "source": [
        "sns.distplot(data_all['Solids'])"
      ]
    },
    {
      "cell_type": "code",
      "execution_count": null,
      "metadata": {
        "id": "mSKt8yqIrG8J"
      },
      "outputs": [],
      "source": [
        "sns.distplot(np.sqrt(data_all['Solids']))"
      ]
    },
    {
      "cell_type": "code",
      "execution_count": null,
      "metadata": {
        "id": "mdLnOQUSTcn0"
      },
      "outputs": [],
      "source": [
        "sns.distplot(data_all['Organic_carbon'])"
      ]
    },
    {
      "cell_type": "code",
      "execution_count": null,
      "metadata": {
        "id": "mT6_wCl7URDd"
      },
      "outputs": [],
      "source": [
        "sns.heatmap(numeric_cols.corr())"
      ]
    },
    {
      "cell_type": "code",
      "execution_count": null,
      "metadata": {
        "id": "QiXQFSVCrG_D"
      },
      "outputs": [],
      "source": [
        "np.sqrt(data_all['Solids']).skew()"
      ]
    },
    {
      "cell_type": "code",
      "execution_count": null,
      "metadata": {
        "id": "mEvqut7prHBl"
      },
      "outputs": [],
      "source": [
        "data_all['Solids'] = np.sqrt(data_all['Solids'])"
      ]
    },
    {
      "cell_type": "code",
      "execution_count": null,
      "metadata": {
        "id": "iD7__nRYrHEo"
      },
      "outputs": [],
      "source": [
        "sns.distplot(data_all['Conductivity'])"
      ]
    },
    {
      "cell_type": "code",
      "execution_count": null,
      "metadata": {
        "id": "HXd-88wYrHGz"
      },
      "outputs": [],
      "source": [
        "sns.distplot(np.sqrt(data_all['Conductivity']))"
      ]
    },
    {
      "cell_type": "code",
      "execution_count": null,
      "metadata": {
        "id": "gimkEi0vrHKU"
      },
      "outputs": [],
      "source": [
        "np.sqrt(data_all['Conductivity']).skew()"
      ]
    },
    {
      "cell_type": "code",
      "execution_count": null,
      "metadata": {
        "id": "IjWP0lMNrHNA"
      },
      "outputs": [],
      "source": [
        "data_all['Conductivity'] = np.sqrt(data_all['Conductivity'])\n",
        "\n"
      ]
    },
    {
      "cell_type": "code",
      "execution_count": null,
      "metadata": {
        "id": "O7cdmoSVSRP8"
      },
      "outputs": [],
      "source": [
        "sns.distplot(np.sqrt(data_all['Organic_carbon']))"
      ]
    },
    {
      "cell_type": "code",
      "execution_count": null,
      "metadata": {
        "id": "lUcFDqtZrHPW"
      },
      "outputs": [],
      "source": [
        "data_all.skew()\n"
      ]
    },
    {
      "cell_type": "code",
      "execution_count": null,
      "metadata": {
        "colab": {
          "base_uri": "https://localhost:8080/",
          "height": 383
        },
        "id": "opKFmGZRxvIT",
        "outputId": "9af5a4e2-d677-4eff-c1bc-309c4a903dc1"
      },
      "outputs": [
        {
          "output_type": "execute_result",
          "data": {
            "text/plain": [
              "                       ph  Hardness    Solids  Chloramines   Sulfate  \\\n",
              "ph               1.000000  0.075665 -0.082064    -0.016646  0.016638   \n",
              "Hardness         0.075665  1.000000 -0.047206    -0.042822 -0.106941   \n",
              "Solids          -0.082064 -0.047206  1.000000     0.021709 -0.171844   \n",
              "Chloramines     -0.016646 -0.042822  0.021709     1.000000 -0.017531   \n",
              "Sulfate          0.016638 -0.106941 -0.171844    -0.017531  1.000000   \n",
              "Conductivity     0.017191 -0.023817  0.013928     0.016718 -0.016121   \n",
              "Organic_carbon  -0.029751  0.029858  0.020563    -0.000449  0.015089   \n",
              "Trihalomethanes  0.003063 -0.013005 -0.009245    -0.020074 -0.030274   \n",
              "Turbidity       -0.036220 -0.014188  0.019732     0.004293 -0.011187   \n",
              "Potability      -0.002382 -0.007354  0.021515    -0.005668  0.021123   \n",
              "\n",
              "                 Conductivity  Organic_carbon  Trihalomethanes  Turbidity  \\\n",
              "ph                   0.017191       -0.029751         0.003063  -0.036220   \n",
              "Hardness            -0.023817        0.029858        -0.013005  -0.014188   \n",
              "Solids               0.013928        0.020563        -0.009245   0.019732   \n",
              "Chloramines          0.016718       -0.000449        -0.020074   0.004293   \n",
              "Sulfate             -0.016121        0.015089        -0.030274  -0.011187   \n",
              "Conductivity         1.000000       -0.029708         0.001285   0.005798   \n",
              "Organic_carbon      -0.029708        1.000000        -0.001384   0.001734   \n",
              "Trihalomethanes      0.001285       -0.001384         1.000000  -0.022145   \n",
              "Turbidity            0.005798        0.001734        -0.022145   1.000000   \n",
              "Potability           0.014311       -0.007307        -0.021134  -0.016321   \n",
              "\n",
              "                 Potability  \n",
              "ph                -0.002382  \n",
              "Hardness          -0.007354  \n",
              "Solids             0.021515  \n",
              "Chloramines       -0.005668  \n",
              "Sulfate            0.021123  \n",
              "Conductivity       0.014311  \n",
              "Organic_carbon    -0.007307  \n",
              "Trihalomethanes   -0.021134  \n",
              "Turbidity         -0.016321  \n",
              "Potability         1.000000  "
            ],
            "text/html": [
              "\n",
              "  <div id=\"df-4f11728b-93dd-45cf-aeb3-76e4714d5077\" class=\"colab-df-container\">\n",
              "    <div>\n",
              "<style scoped>\n",
              "    .dataframe tbody tr th:only-of-type {\n",
              "        vertical-align: middle;\n",
              "    }\n",
              "\n",
              "    .dataframe tbody tr th {\n",
              "        vertical-align: top;\n",
              "    }\n",
              "\n",
              "    .dataframe thead th {\n",
              "        text-align: right;\n",
              "    }\n",
              "</style>\n",
              "<table border=\"1\" class=\"dataframe\">\n",
              "  <thead>\n",
              "    <tr style=\"text-align: right;\">\n",
              "      <th></th>\n",
              "      <th>ph</th>\n",
              "      <th>Hardness</th>\n",
              "      <th>Solids</th>\n",
              "      <th>Chloramines</th>\n",
              "      <th>Sulfate</th>\n",
              "      <th>Conductivity</th>\n",
              "      <th>Organic_carbon</th>\n",
              "      <th>Trihalomethanes</th>\n",
              "      <th>Turbidity</th>\n",
              "      <th>Potability</th>\n",
              "    </tr>\n",
              "  </thead>\n",
              "  <tbody>\n",
              "    <tr>\n",
              "      <th>ph</th>\n",
              "      <td>1.000000</td>\n",
              "      <td>0.075665</td>\n",
              "      <td>-0.082064</td>\n",
              "      <td>-0.016646</td>\n",
              "      <td>0.016638</td>\n",
              "      <td>0.017191</td>\n",
              "      <td>-0.029751</td>\n",
              "      <td>0.003063</td>\n",
              "      <td>-0.036220</td>\n",
              "      <td>-0.002382</td>\n",
              "    </tr>\n",
              "    <tr>\n",
              "      <th>Hardness</th>\n",
              "      <td>0.075665</td>\n",
              "      <td>1.000000</td>\n",
              "      <td>-0.047206</td>\n",
              "      <td>-0.042822</td>\n",
              "      <td>-0.106941</td>\n",
              "      <td>-0.023817</td>\n",
              "      <td>0.029858</td>\n",
              "      <td>-0.013005</td>\n",
              "      <td>-0.014188</td>\n",
              "      <td>-0.007354</td>\n",
              "    </tr>\n",
              "    <tr>\n",
              "      <th>Solids</th>\n",
              "      <td>-0.082064</td>\n",
              "      <td>-0.047206</td>\n",
              "      <td>1.000000</td>\n",
              "      <td>0.021709</td>\n",
              "      <td>-0.171844</td>\n",
              "      <td>0.013928</td>\n",
              "      <td>0.020563</td>\n",
              "      <td>-0.009245</td>\n",
              "      <td>0.019732</td>\n",
              "      <td>0.021515</td>\n",
              "    </tr>\n",
              "    <tr>\n",
              "      <th>Chloramines</th>\n",
              "      <td>-0.016646</td>\n",
              "      <td>-0.042822</td>\n",
              "      <td>0.021709</td>\n",
              "      <td>1.000000</td>\n",
              "      <td>-0.017531</td>\n",
              "      <td>0.016718</td>\n",
              "      <td>-0.000449</td>\n",
              "      <td>-0.020074</td>\n",
              "      <td>0.004293</td>\n",
              "      <td>-0.005668</td>\n",
              "    </tr>\n",
              "    <tr>\n",
              "      <th>Sulfate</th>\n",
              "      <td>0.016638</td>\n",
              "      <td>-0.106941</td>\n",
              "      <td>-0.171844</td>\n",
              "      <td>-0.017531</td>\n",
              "      <td>1.000000</td>\n",
              "      <td>-0.016121</td>\n",
              "      <td>0.015089</td>\n",
              "      <td>-0.030274</td>\n",
              "      <td>-0.011187</td>\n",
              "      <td>0.021123</td>\n",
              "    </tr>\n",
              "    <tr>\n",
              "      <th>Conductivity</th>\n",
              "      <td>0.017191</td>\n",
              "      <td>-0.023817</td>\n",
              "      <td>0.013928</td>\n",
              "      <td>0.016718</td>\n",
              "      <td>-0.016121</td>\n",
              "      <td>1.000000</td>\n",
              "      <td>-0.029708</td>\n",
              "      <td>0.001285</td>\n",
              "      <td>0.005798</td>\n",
              "      <td>0.014311</td>\n",
              "    </tr>\n",
              "    <tr>\n",
              "      <th>Organic_carbon</th>\n",
              "      <td>-0.029751</td>\n",
              "      <td>0.029858</td>\n",
              "      <td>0.020563</td>\n",
              "      <td>-0.000449</td>\n",
              "      <td>0.015089</td>\n",
              "      <td>-0.029708</td>\n",
              "      <td>1.000000</td>\n",
              "      <td>-0.001384</td>\n",
              "      <td>0.001734</td>\n",
              "      <td>-0.007307</td>\n",
              "    </tr>\n",
              "    <tr>\n",
              "      <th>Trihalomethanes</th>\n",
              "      <td>0.003063</td>\n",
              "      <td>-0.013005</td>\n",
              "      <td>-0.009245</td>\n",
              "      <td>-0.020074</td>\n",
              "      <td>-0.030274</td>\n",
              "      <td>0.001285</td>\n",
              "      <td>-0.001384</td>\n",
              "      <td>1.000000</td>\n",
              "      <td>-0.022145</td>\n",
              "      <td>-0.021134</td>\n",
              "    </tr>\n",
              "    <tr>\n",
              "      <th>Turbidity</th>\n",
              "      <td>-0.036220</td>\n",
              "      <td>-0.014188</td>\n",
              "      <td>0.019732</td>\n",
              "      <td>0.004293</td>\n",
              "      <td>-0.011187</td>\n",
              "      <td>0.005798</td>\n",
              "      <td>0.001734</td>\n",
              "      <td>-0.022145</td>\n",
              "      <td>1.000000</td>\n",
              "      <td>-0.016321</td>\n",
              "    </tr>\n",
              "    <tr>\n",
              "      <th>Potability</th>\n",
              "      <td>-0.002382</td>\n",
              "      <td>-0.007354</td>\n",
              "      <td>0.021515</td>\n",
              "      <td>-0.005668</td>\n",
              "      <td>0.021123</td>\n",
              "      <td>0.014311</td>\n",
              "      <td>-0.007307</td>\n",
              "      <td>-0.021134</td>\n",
              "      <td>-0.016321</td>\n",
              "      <td>1.000000</td>\n",
              "    </tr>\n",
              "  </tbody>\n",
              "</table>\n",
              "</div>\n",
              "    <div class=\"colab-df-buttons\">\n",
              "\n",
              "  <div class=\"colab-df-container\">\n",
              "    <button class=\"colab-df-convert\" onclick=\"convertToInteractive('df-4f11728b-93dd-45cf-aeb3-76e4714d5077')\"\n",
              "            title=\"Convert this dataframe to an interactive table.\"\n",
              "            style=\"display:none;\">\n",
              "\n",
              "  <svg xmlns=\"http://www.w3.org/2000/svg\" height=\"24px\" viewBox=\"0 -960 960 960\">\n",
              "    <path d=\"M120-120v-720h720v720H120Zm60-500h600v-160H180v160Zm220 220h160v-160H400v160Zm0 220h160v-160H400v160ZM180-400h160v-160H180v160Zm440 0h160v-160H620v160ZM180-180h160v-160H180v160Zm440 0h160v-160H620v160Z\"/>\n",
              "  </svg>\n",
              "    </button>\n",
              "\n",
              "  <style>\n",
              "    .colab-df-container {\n",
              "      display:flex;\n",
              "      gap: 12px;\n",
              "    }\n",
              "\n",
              "    .colab-df-convert {\n",
              "      background-color: #E8F0FE;\n",
              "      border: none;\n",
              "      border-radius: 50%;\n",
              "      cursor: pointer;\n",
              "      display: none;\n",
              "      fill: #1967D2;\n",
              "      height: 32px;\n",
              "      padding: 0 0 0 0;\n",
              "      width: 32px;\n",
              "    }\n",
              "\n",
              "    .colab-df-convert:hover {\n",
              "      background-color: #E2EBFA;\n",
              "      box-shadow: 0px 1px 2px rgba(60, 64, 67, 0.3), 0px 1px 3px 1px rgba(60, 64, 67, 0.15);\n",
              "      fill: #174EA6;\n",
              "    }\n",
              "\n",
              "    .colab-df-buttons div {\n",
              "      margin-bottom: 4px;\n",
              "    }\n",
              "\n",
              "    [theme=dark] .colab-df-convert {\n",
              "      background-color: #3B4455;\n",
              "      fill: #D2E3FC;\n",
              "    }\n",
              "\n",
              "    [theme=dark] .colab-df-convert:hover {\n",
              "      background-color: #434B5C;\n",
              "      box-shadow: 0px 1px 3px 1px rgba(0, 0, 0, 0.15);\n",
              "      filter: drop-shadow(0px 1px 2px rgba(0, 0, 0, 0.3));\n",
              "      fill: #FFFFFF;\n",
              "    }\n",
              "  </style>\n",
              "\n",
              "    <script>\n",
              "      const buttonEl =\n",
              "        document.querySelector('#df-4f11728b-93dd-45cf-aeb3-76e4714d5077 button.colab-df-convert');\n",
              "      buttonEl.style.display =\n",
              "        google.colab.kernel.accessAllowed ? 'block' : 'none';\n",
              "\n",
              "      async function convertToInteractive(key) {\n",
              "        const element = document.querySelector('#df-4f11728b-93dd-45cf-aeb3-76e4714d5077');\n",
              "        const dataTable =\n",
              "          await google.colab.kernel.invokeFunction('convertToInteractive',\n",
              "                                                    [key], {});\n",
              "        if (!dataTable) return;\n",
              "\n",
              "        const docLinkHtml = 'Like what you see? Visit the ' +\n",
              "          '<a target=\"_blank\" href=https://colab.research.google.com/notebooks/data_table.ipynb>data table notebook</a>'\n",
              "          + ' to learn more about interactive tables.';\n",
              "        element.innerHTML = '';\n",
              "        dataTable['output_type'] = 'display_data';\n",
              "        await google.colab.output.renderOutput(dataTable, element);\n",
              "        const docLink = document.createElement('div');\n",
              "        docLink.innerHTML = docLinkHtml;\n",
              "        element.appendChild(docLink);\n",
              "      }\n",
              "    </script>\n",
              "  </div>\n",
              "\n",
              "\n",
              "<div id=\"df-74c5e443-d8f0-4e18-ac20-441efb88f122\">\n",
              "  <button class=\"colab-df-quickchart\" onclick=\"quickchart('df-74c5e443-d8f0-4e18-ac20-441efb88f122')\"\n",
              "            title=\"Suggest charts\"\n",
              "            style=\"display:none;\">\n",
              "\n",
              "<svg xmlns=\"http://www.w3.org/2000/svg\" height=\"24px\"viewBox=\"0 0 24 24\"\n",
              "     width=\"24px\">\n",
              "    <g>\n",
              "        <path d=\"M19 3H5c-1.1 0-2 .9-2 2v14c0 1.1.9 2 2 2h14c1.1 0 2-.9 2-2V5c0-1.1-.9-2-2-2zM9 17H7v-7h2v7zm4 0h-2V7h2v10zm4 0h-2v-4h2v4z\"/>\n",
              "    </g>\n",
              "</svg>\n",
              "  </button>\n",
              "\n",
              "<style>\n",
              "  .colab-df-quickchart {\n",
              "      --bg-color: #E8F0FE;\n",
              "      --fill-color: #1967D2;\n",
              "      --hover-bg-color: #E2EBFA;\n",
              "      --hover-fill-color: #174EA6;\n",
              "      --disabled-fill-color: #AAA;\n",
              "      --disabled-bg-color: #DDD;\n",
              "  }\n",
              "\n",
              "  [theme=dark] .colab-df-quickchart {\n",
              "      --bg-color: #3B4455;\n",
              "      --fill-color: #D2E3FC;\n",
              "      --hover-bg-color: #434B5C;\n",
              "      --hover-fill-color: #FFFFFF;\n",
              "      --disabled-bg-color: #3B4455;\n",
              "      --disabled-fill-color: #666;\n",
              "  }\n",
              "\n",
              "  .colab-df-quickchart {\n",
              "    background-color: var(--bg-color);\n",
              "    border: none;\n",
              "    border-radius: 50%;\n",
              "    cursor: pointer;\n",
              "    display: none;\n",
              "    fill: var(--fill-color);\n",
              "    height: 32px;\n",
              "    padding: 0;\n",
              "    width: 32px;\n",
              "  }\n",
              "\n",
              "  .colab-df-quickchart:hover {\n",
              "    background-color: var(--hover-bg-color);\n",
              "    box-shadow: 0 1px 2px rgba(60, 64, 67, 0.3), 0 1px 3px 1px rgba(60, 64, 67, 0.15);\n",
              "    fill: var(--button-hover-fill-color);\n",
              "  }\n",
              "\n",
              "  .colab-df-quickchart-complete:disabled,\n",
              "  .colab-df-quickchart-complete:disabled:hover {\n",
              "    background-color: var(--disabled-bg-color);\n",
              "    fill: var(--disabled-fill-color);\n",
              "    box-shadow: none;\n",
              "  }\n",
              "\n",
              "  .colab-df-spinner {\n",
              "    border: 2px solid var(--fill-color);\n",
              "    border-color: transparent;\n",
              "    border-bottom-color: var(--fill-color);\n",
              "    animation:\n",
              "      spin 1s steps(1) infinite;\n",
              "  }\n",
              "\n",
              "  @keyframes spin {\n",
              "    0% {\n",
              "      border-color: transparent;\n",
              "      border-bottom-color: var(--fill-color);\n",
              "      border-left-color: var(--fill-color);\n",
              "    }\n",
              "    20% {\n",
              "      border-color: transparent;\n",
              "      border-left-color: var(--fill-color);\n",
              "      border-top-color: var(--fill-color);\n",
              "    }\n",
              "    30% {\n",
              "      border-color: transparent;\n",
              "      border-left-color: var(--fill-color);\n",
              "      border-top-color: var(--fill-color);\n",
              "      border-right-color: var(--fill-color);\n",
              "    }\n",
              "    40% {\n",
              "      border-color: transparent;\n",
              "      border-right-color: var(--fill-color);\n",
              "      border-top-color: var(--fill-color);\n",
              "    }\n",
              "    60% {\n",
              "      border-color: transparent;\n",
              "      border-right-color: var(--fill-color);\n",
              "    }\n",
              "    80% {\n",
              "      border-color: transparent;\n",
              "      border-right-color: var(--fill-color);\n",
              "      border-bottom-color: var(--fill-color);\n",
              "    }\n",
              "    90% {\n",
              "      border-color: transparent;\n",
              "      border-bottom-color: var(--fill-color);\n",
              "    }\n",
              "  }\n",
              "</style>\n",
              "\n",
              "  <script>\n",
              "    async function quickchart(key) {\n",
              "      const quickchartButtonEl =\n",
              "        document.querySelector('#' + key + ' button');\n",
              "      quickchartButtonEl.disabled = true;  // To prevent multiple clicks.\n",
              "      quickchartButtonEl.classList.add('colab-df-spinner');\n",
              "      try {\n",
              "        const charts = await google.colab.kernel.invokeFunction(\n",
              "            'suggestCharts', [key], {});\n",
              "      } catch (error) {\n",
              "        console.error('Error during call to suggestCharts:', error);\n",
              "      }\n",
              "      quickchartButtonEl.classList.remove('colab-df-spinner');\n",
              "      quickchartButtonEl.classList.add('colab-df-quickchart-complete');\n",
              "    }\n",
              "    (() => {\n",
              "      let quickchartButtonEl =\n",
              "        document.querySelector('#df-74c5e443-d8f0-4e18-ac20-441efb88f122 button');\n",
              "      quickchartButtonEl.style.display =\n",
              "        google.colab.kernel.accessAllowed ? 'block' : 'none';\n",
              "    })();\n",
              "  </script>\n",
              "</div>\n",
              "\n",
              "    </div>\n",
              "  </div>\n"
            ],
            "application/vnd.google.colaboratory.intrinsic+json": {
              "type": "dataframe",
              "summary": "{\n  \"name\": \"data_all\",\n  \"rows\": 10,\n  \"fields\": [\n    {\n      \"column\": \"ph\",\n      \"properties\": {\n        \"dtype\": \"number\",\n        \"std\": 0.32078462834540045,\n        \"min\": -0.0820641017035169,\n        \"max\": 1.0,\n        \"num_unique_values\": 10,\n        \"samples\": [\n          -0.03621972002848615,\n          0.0756646617710798,\n          0.01719137236981005\n        ],\n        \"semantic_type\": \"\",\n        \"description\": \"\"\n      }\n    },\n    {\n      \"column\": \"Hardness\",\n      \"properties\": {\n        \"dtype\": \"number\",\n        \"std\": 0.3250341677474073,\n        \"min\": -0.10694093077584145,\n        \"max\": 1.0,\n        \"num_unique_values\": 10,\n        \"samples\": [\n          -0.014188468350120205,\n          1.0,\n          -0.02381733611465302\n        ],\n        \"semantic_type\": \"\",\n        \"description\": \"\"\n      }\n    },\n    {\n      \"column\": \"Solids\",\n      \"properties\": {\n        \"dtype\": \"number\",\n        \"std\": 0.32974207448916437,\n        \"min\": -0.17184393537599757,\n        \"max\": 1.0,\n        \"num_unique_values\": 10,\n        \"samples\": [\n          0.019732488931674706,\n          -0.047206356952170944,\n          0.013927719574568075\n        ],\n        \"semantic_type\": \"\",\n        \"description\": \"\"\n      }\n    },\n    {\n      \"column\": \"Chloramines\",\n      \"properties\": {\n        \"dtype\": \"number\",\n        \"std\": 0.3189132457529155,\n        \"min\": -0.04282178753385704,\n        \"max\": 1.0,\n        \"num_unique_values\": 10,\n        \"samples\": [\n          0.004292981358211679,\n          -0.04282178753385704,\n          0.016718160906532265\n        ],\n        \"semantic_type\": \"\",\n        \"description\": \"\"\n      }\n    },\n    {\n      \"column\": \"Sulfate\",\n      \"properties\": {\n        \"dtype\": \"number\",\n        \"std\": 0.3324442616057324,\n        \"min\": -0.17184393537599757,\n        \"max\": 1.0,\n        \"num_unique_values\": 10,\n        \"samples\": [\n          -0.011186961261957269,\n          -0.10694093077584145,\n          -0.016120565360939067\n        ],\n        \"semantic_type\": \"\",\n        \"description\": \"\"\n      }\n    },\n    {\n      \"column\": \"Conductivity\",\n      \"properties\": {\n        \"dtype\": \"number\",\n        \"std\": 0.3167196085024843,\n        \"min\": -0.029708431504738755,\n        \"max\": 1.0,\n        \"num_unique_values\": 10,\n        \"samples\": [\n          0.005798166916594021,\n          -0.02381733611465302,\n          1.0\n        ],\n        \"semantic_type\": \"\",\n        \"description\": \"\"\n      }\n    },\n    {\n      \"column\": \"Organic_carbon\",\n      \"properties\": {\n        \"dtype\": \"number\",\n        \"std\": 0.31686642102626256,\n        \"min\": -0.029750518551824465,\n        \"max\": 1.0,\n        \"num_unique_values\": 10,\n        \"samples\": [\n          0.0017341335727360067,\n          0.02985831100631547,\n          -0.029708431504738755\n        ],\n        \"semantic_type\": \"\",\n        \"description\": \"\"\n      }\n    },\n    {\n      \"column\": \"Trihalomethanes\",\n      \"properties\": {\n        \"dtype\": \"number\",\n        \"std\": 0.32038723713978373,\n        \"min\": -0.030274061873037897,\n        \"max\": 1.0,\n        \"num_unique_values\": 10,\n        \"samples\": [\n          -0.022144966846778996,\n          -0.013005339388697853,\n          0.001285237747261948\n        ],\n        \"semantic_type\": \"\",\n        \"description\": \"\"\n      }\n    },\n    {\n      \"column\": \"Turbidity\",\n      \"properties\": {\n        \"dtype\": \"number\",\n        \"std\": 0.3190386441955841,\n        \"min\": -0.03621972002848615,\n        \"max\": 1.0,\n        \"num_unique_values\": 10,\n        \"samples\": [\n          1.0,\n          -0.014188468350120205,\n          0.005798166916594021\n        ],\n        \"semantic_type\": \"\",\n        \"description\": \"\"\n      }\n    },\n    {\n      \"column\": \"Potability\",\n      \"properties\": {\n        \"dtype\": \"number\",\n        \"std\": 0.31668676352395253,\n        \"min\": -0.021134106419128895,\n        \"max\": 1.0,\n        \"num_unique_values\": 10,\n        \"samples\": [\n          -0.016320908134701103,\n          -0.0073540927527247744,\n          0.014310708659445313\n        ],\n        \"semantic_type\": \"\",\n        \"description\": \"\"\n      }\n    }\n  ]\n}"
            }
          },
          "metadata": {},
          "execution_count": 37
        }
      ],
      "source": [
        "# checking correlation\n",
        "data_all.corr()"
      ]
    },
    {
      "cell_type": "code",
      "execution_count": null,
      "metadata": {
        "id": "vINOoyXaxvOZ"
      },
      "outputs": [],
      "source": []
    },
    {
      "cell_type": "code",
      "execution_count": null,
      "metadata": {
        "id": "lOFKs6VHrHR3"
      },
      "outputs": [],
      "source": [
        "#scaling\n",
        "from sklearn.preprocessing import StandardScaler\n",
        "column_names.remove('Potability')\n",
        "sc = StandardScaler()\n",
        "sc.fit(data_all[column_names])\n",
        "data_all[column_names] = sc.transform(data_all[column_names])"
      ]
    },
    {
      "cell_type": "code",
      "execution_count": null,
      "metadata": {
        "id": "35AyHFy8rHVZ"
      },
      "outputs": [],
      "source": [
        "feature_columns = data_all.drop(['Potability'] , axis =1 )\n",
        "target_column = data_all['Potability']"
      ]
    },
    {
      "cell_type": "code",
      "execution_count": null,
      "metadata": {
        "colab": {
          "base_uri": "https://localhost:8080/"
        },
        "id": "MMLF1T1TuKZg",
        "outputId": "e153711e-7432-49e8-a1cc-ff204a31bc41"
      },
      "outputs": [
        {
          "output_type": "execute_result",
          "data": {
            "text/plain": [
              "((3276, 9), (3276,))"
            ]
          },
          "metadata": {},
          "execution_count": 40
        }
      ],
      "source": [
        "feature_columns.shape , target_column.shape"
      ]
    },
    {
      "cell_type": "code",
      "execution_count": null,
      "metadata": {
        "id": "OXitNww_uKcX"
      },
      "outputs": [],
      "source": [
        "# modelling\n",
        "# first divide the data into trainin and testing data"
      ]
    },
    {
      "cell_type": "code",
      "execution_count": null,
      "metadata": {
        "id": "SlVYg9Z5uKfM"
      },
      "outputs": [],
      "source": [
        "from sklearn.model_selection import train_test_split\n",
        "train_feature, test_feature , train_target , test_target = train_test_split(feature_columns,target_column,\\\n",
        "test_size = 0.2 , random_state = 1200 , stratify= target_column)"
      ]
    },
    {
      "cell_type": "code",
      "execution_count": null,
      "metadata": {
        "colab": {
          "base_uri": "https://localhost:8080/"
        },
        "id": "3BOW0DkluKiE",
        "outputId": "ecb582d1-ac61-4450-adfc-a70b0ff1926a"
      },
      "outputs": [
        {
          "output_type": "execute_result",
          "data": {
            "text/plain": [
              "((2620, 9), (656, 9), (2620,), (656,))"
            ]
          },
          "metadata": {},
          "execution_count": 42
        }
      ],
      "source": [
        "train_feature.shape, test_feature.shape , train_target.shape , test_target.shape"
      ]
    },
    {
      "cell_type": "code",
      "execution_count": null,
      "metadata": {
        "colab": {
          "base_uri": "https://localhost:8080/"
        },
        "id": "ys4VFyihuKk1",
        "outputId": "ba9bcf74-4abf-49d7-e812-2f81c0144ef3"
      },
      "outputs": [
        {
          "output_type": "execute_result",
          "data": {
            "text/plain": [
              "Potability\n",
              "0    2350\n",
              "1     270\n",
              "Name: count, dtype: int64"
            ]
          },
          "metadata": {},
          "execution_count": 43
        }
      ],
      "source": [
        "train_target.value_counts()"
      ]
    },
    {
      "cell_type": "code",
      "execution_count": null,
      "metadata": {
        "colab": {
          "base_uri": "https://localhost:8080/"
        },
        "id": "BmGkLn2vuKoC",
        "outputId": "4f5eb776-ef29-4110-92cb-002c807e8ac8"
      },
      "outputs": [
        {
          "output_type": "execute_result",
          "data": {
            "text/plain": [
              "Potability\n",
              "0    588\n",
              "1     68\n",
              "Name: count, dtype: int64"
            ]
          },
          "metadata": {},
          "execution_count": 44
        }
      ],
      "source": [
        "test_target.value_counts()   # WE can see there is class imbalance in the data"
      ]
    },
    {
      "cell_type": "code",
      "execution_count": null,
      "metadata": {
        "id": "rocEUzaRuKrq"
      },
      "outputs": [],
      "source": [
        "train_feature.reset_index(drop = True, inplace = True)\n",
        "test_feature.reset_index(drop = True, inplace = True)\n",
        "train_target.reset_index(drop = True, inplace = True)\n",
        "test_target.reset_index(drop = True, inplace = True)"
      ]
    },
    {
      "cell_type": "code",
      "execution_count": null,
      "metadata": {
        "colab": {
          "base_uri": "https://localhost:8080/",
          "height": 478
        },
        "id": "jzRqawgYuKuX",
        "outputId": "c1779e02-5320-4d5d-e499-4fb3fb4896b1"
      },
      "outputs": [
        {
          "output_type": "error",
          "ename": "ValueError",
          "evalue": "Input X contains NaN.\nLogisticRegression does not accept missing values encoded as NaN natively. For supervised learning, you might want to consider sklearn.ensemble.HistGradientBoostingClassifier and Regressor which accept missing values encoded as NaNs natively. Alternatively, it is possible to preprocess the data, for instance by using an imputer transformer in a pipeline or drop samples with missing values. See https://scikit-learn.org/stable/modules/impute.html You can find a list of all estimators that handle NaN values at the following page: https://scikit-learn.org/stable/modules/impute.html#estimators-that-handle-nan-values",
          "traceback": [
            "\u001b[0;31m---------------------------------------------------------------------------\u001b[0m",
            "\u001b[0;31mValueError\u001b[0m                                Traceback (most recent call last)",
            "\u001b[0;32m<ipython-input-46-977cf840fed6>\u001b[0m in \u001b[0;36m<cell line: 7>\u001b[0;34m()\u001b[0m\n\u001b[1;32m      5\u001b[0m                               \u001b[0mrandom_state\u001b[0m \u001b[0;34m=\u001b[0m \u001b[0;36m8\u001b[0m\u001b[0;34m,\u001b[0m\u001b[0;34m\u001b[0m\u001b[0;34m\u001b[0m\u001b[0m\n\u001b[1;32m      6\u001b[0m                               class_weight = {0:1,1:4})\n\u001b[0;32m----> 7\u001b[0;31m \u001b[0mLR_model\u001b[0m\u001b[0;34m.\u001b[0m\u001b[0mfit\u001b[0m\u001b[0;34m(\u001b[0m\u001b[0mtrain_feature\u001b[0m\u001b[0;34m,\u001b[0m\u001b[0mtrain_target\u001b[0m\u001b[0;34m)\u001b[0m\u001b[0;34m\u001b[0m\u001b[0;34m\u001b[0m\u001b[0m\n\u001b[0m\u001b[1;32m      8\u001b[0m \u001b[0;31m# without scaling and skewness treatment\u001b[0m\u001b[0;34m\u001b[0m\u001b[0;34m\u001b[0m\u001b[0m\n\u001b[1;32m      9\u001b[0m \u001b[0;31m# with threshod of 0.3 ,  class_weight = {0:1,1:4} f1 score 18.9\u001b[0m\u001b[0;34m\u001b[0m\u001b[0;34m\u001b[0m\u001b[0m\n",
            "\u001b[0;32m/usr/local/lib/python3.10/dist-packages/sklearn/linear_model/_logistic.py\u001b[0m in \u001b[0;36mfit\u001b[0;34m(self, X, y, sample_weight)\u001b[0m\n\u001b[1;32m   1194\u001b[0m             \u001b[0m_dtype\u001b[0m \u001b[0;34m=\u001b[0m \u001b[0;34m[\u001b[0m\u001b[0mnp\u001b[0m\u001b[0;34m.\u001b[0m\u001b[0mfloat64\u001b[0m\u001b[0;34m,\u001b[0m \u001b[0mnp\u001b[0m\u001b[0;34m.\u001b[0m\u001b[0mfloat32\u001b[0m\u001b[0;34m]\u001b[0m\u001b[0;34m\u001b[0m\u001b[0;34m\u001b[0m\u001b[0m\n\u001b[1;32m   1195\u001b[0m \u001b[0;34m\u001b[0m\u001b[0m\n\u001b[0;32m-> 1196\u001b[0;31m         X, y = self._validate_data(\n\u001b[0m\u001b[1;32m   1197\u001b[0m             \u001b[0mX\u001b[0m\u001b[0;34m,\u001b[0m\u001b[0;34m\u001b[0m\u001b[0;34m\u001b[0m\u001b[0m\n\u001b[1;32m   1198\u001b[0m             \u001b[0my\u001b[0m\u001b[0;34m,\u001b[0m\u001b[0;34m\u001b[0m\u001b[0;34m\u001b[0m\u001b[0m\n",
            "\u001b[0;32m/usr/local/lib/python3.10/dist-packages/sklearn/base.py\u001b[0m in \u001b[0;36m_validate_data\u001b[0;34m(self, X, y, reset, validate_separately, **check_params)\u001b[0m\n\u001b[1;32m    582\u001b[0m                 \u001b[0my\u001b[0m \u001b[0;34m=\u001b[0m \u001b[0mcheck_array\u001b[0m\u001b[0;34m(\u001b[0m\u001b[0my\u001b[0m\u001b[0;34m,\u001b[0m \u001b[0minput_name\u001b[0m\u001b[0;34m=\u001b[0m\u001b[0;34m\"y\"\u001b[0m\u001b[0;34m,\u001b[0m \u001b[0;34m**\u001b[0m\u001b[0mcheck_y_params\u001b[0m\u001b[0;34m)\u001b[0m\u001b[0;34m\u001b[0m\u001b[0;34m\u001b[0m\u001b[0m\n\u001b[1;32m    583\u001b[0m             \u001b[0;32melse\u001b[0m\u001b[0;34m:\u001b[0m\u001b[0;34m\u001b[0m\u001b[0;34m\u001b[0m\u001b[0m\n\u001b[0;32m--> 584\u001b[0;31m                 \u001b[0mX\u001b[0m\u001b[0;34m,\u001b[0m \u001b[0my\u001b[0m \u001b[0;34m=\u001b[0m \u001b[0mcheck_X_y\u001b[0m\u001b[0;34m(\u001b[0m\u001b[0mX\u001b[0m\u001b[0;34m,\u001b[0m \u001b[0my\u001b[0m\u001b[0;34m,\u001b[0m \u001b[0;34m**\u001b[0m\u001b[0mcheck_params\u001b[0m\u001b[0;34m)\u001b[0m\u001b[0;34m\u001b[0m\u001b[0;34m\u001b[0m\u001b[0m\n\u001b[0m\u001b[1;32m    585\u001b[0m             \u001b[0mout\u001b[0m \u001b[0;34m=\u001b[0m \u001b[0mX\u001b[0m\u001b[0;34m,\u001b[0m \u001b[0my\u001b[0m\u001b[0;34m\u001b[0m\u001b[0;34m\u001b[0m\u001b[0m\n\u001b[1;32m    586\u001b[0m \u001b[0;34m\u001b[0m\u001b[0m\n",
            "\u001b[0;32m/usr/local/lib/python3.10/dist-packages/sklearn/utils/validation.py\u001b[0m in \u001b[0;36mcheck_X_y\u001b[0;34m(X, y, accept_sparse, accept_large_sparse, dtype, order, copy, force_all_finite, ensure_2d, allow_nd, multi_output, ensure_min_samples, ensure_min_features, y_numeric, estimator)\u001b[0m\n\u001b[1;32m   1104\u001b[0m         )\n\u001b[1;32m   1105\u001b[0m \u001b[0;34m\u001b[0m\u001b[0m\n\u001b[0;32m-> 1106\u001b[0;31m     X = check_array(\n\u001b[0m\u001b[1;32m   1107\u001b[0m         \u001b[0mX\u001b[0m\u001b[0;34m,\u001b[0m\u001b[0;34m\u001b[0m\u001b[0;34m\u001b[0m\u001b[0m\n\u001b[1;32m   1108\u001b[0m         \u001b[0maccept_sparse\u001b[0m\u001b[0;34m=\u001b[0m\u001b[0maccept_sparse\u001b[0m\u001b[0;34m,\u001b[0m\u001b[0;34m\u001b[0m\u001b[0;34m\u001b[0m\u001b[0m\n",
            "\u001b[0;32m/usr/local/lib/python3.10/dist-packages/sklearn/utils/validation.py\u001b[0m in \u001b[0;36mcheck_array\u001b[0;34m(array, accept_sparse, accept_large_sparse, dtype, order, copy, force_all_finite, ensure_2d, allow_nd, ensure_min_samples, ensure_min_features, estimator, input_name)\u001b[0m\n\u001b[1;32m    919\u001b[0m \u001b[0;34m\u001b[0m\u001b[0m\n\u001b[1;32m    920\u001b[0m         \u001b[0;32mif\u001b[0m \u001b[0mforce_all_finite\u001b[0m\u001b[0;34m:\u001b[0m\u001b[0;34m\u001b[0m\u001b[0;34m\u001b[0m\u001b[0m\n\u001b[0;32m--> 921\u001b[0;31m             _assert_all_finite(\n\u001b[0m\u001b[1;32m    922\u001b[0m                 \u001b[0marray\u001b[0m\u001b[0;34m,\u001b[0m\u001b[0;34m\u001b[0m\u001b[0;34m\u001b[0m\u001b[0m\n\u001b[1;32m    923\u001b[0m                 \u001b[0minput_name\u001b[0m\u001b[0;34m=\u001b[0m\u001b[0minput_name\u001b[0m\u001b[0;34m,\u001b[0m\u001b[0;34m\u001b[0m\u001b[0;34m\u001b[0m\u001b[0m\n",
            "\u001b[0;32m/usr/local/lib/python3.10/dist-packages/sklearn/utils/validation.py\u001b[0m in \u001b[0;36m_assert_all_finite\u001b[0;34m(X, allow_nan, msg_dtype, estimator_name, input_name)\u001b[0m\n\u001b[1;32m    159\u001b[0m                 \u001b[0;34m\"#estimators-that-handle-nan-values\"\u001b[0m\u001b[0;34m\u001b[0m\u001b[0;34m\u001b[0m\u001b[0m\n\u001b[1;32m    160\u001b[0m             )\n\u001b[0;32m--> 161\u001b[0;31m         \u001b[0;32mraise\u001b[0m \u001b[0mValueError\u001b[0m\u001b[0;34m(\u001b[0m\u001b[0mmsg_err\u001b[0m\u001b[0;34m)\u001b[0m\u001b[0;34m\u001b[0m\u001b[0;34m\u001b[0m\u001b[0m\n\u001b[0m\u001b[1;32m    162\u001b[0m \u001b[0;34m\u001b[0m\u001b[0m\n\u001b[1;32m    163\u001b[0m \u001b[0;34m\u001b[0m\u001b[0m\n",
            "\u001b[0;31mValueError\u001b[0m: Input X contains NaN.\nLogisticRegression does not accept missing values encoded as NaN natively. For supervised learning, you might want to consider sklearn.ensemble.HistGradientBoostingClassifier and Regressor which accept missing values encoded as NaNs natively. Alternatively, it is possible to preprocess the data, for instance by using an imputer transformer in a pipeline or drop samples with missing values. See https://scikit-learn.org/stable/modules/impute.html You can find a list of all estimators that handle NaN values at the following page: https://scikit-learn.org/stable/modules/impute.html#estimators-that-handle-nan-values"
          ]
        }
      ],
      "source": [
        "# first iteration of logistic regression\n",
        "from sklearn.linear_model import LogisticRegression\n",
        "\n",
        "LR_model = LogisticRegression(max_iter = 500,\n",
        "                              random_state = 8,\n",
        "                              class_weight = {0:1,1:4})\n",
        "LR_model.fit(train_feature,train_target)\n",
        "# without scaling and skewness treatment\n",
        "# with threshod of 0.3 ,  class_weight = {0:1,1:4} f1 score 18.9\n",
        "#                         class_weight = {0:1,1:5} f1 score train is 18.3 and f1 score of test is improved from 0 to 17.5\n",
        "#                         class_weight = {0:1,1:5.9} f1 score train is 18.69 and f1 score of test is improved from 17.5 to 18.62.\n",
        "# with scaling skewness treatment\n",
        "#                         class_weight = {0:1,1:5.9} f1 score train is 18.69 and f1 score of test is  18.62. no change"
      ]
    },
    {
      "cell_type": "code",
      "execution_count": null,
      "metadata": {
        "id": "yNjlq3J9w5oF"
      },
      "outputs": [],
      "source": [
        "Prediction = pd.DataFrame(LR_model.predict_proba(train_feature))"
      ]
    },
    {
      "cell_type": "code",
      "execution_count": null,
      "metadata": {
        "id": "bBQG4f19w5rW"
      },
      "outputs": [],
      "source": [
        "Prediction['Threshold'] = 0\n",
        "Prediction.loc[Prediction[1]>=0.3,'Threshold'] = 1"
      ]
    },
    {
      "cell_type": "code",
      "execution_count": null,
      "metadata": {
        "id": "pxFXJCDUw5uH"
      },
      "outputs": [],
      "source": [
        "Prediction"
      ]
    },
    {
      "cell_type": "code",
      "execution_count": null,
      "metadata": {
        "id": "Q-Ev2eLGw5xa"
      },
      "outputs": [],
      "source": [
        "from sklearn.metrics import f1_score , confusion_matrix\n",
        "f1_score(y_true=train_target, y_pred = Prediction['Threshold'])"
      ]
    },
    {
      "cell_type": "code",
      "execution_count": null,
      "metadata": {
        "id": "_xYfoELpw50I"
      },
      "outputs": [],
      "source": [
        "pd.DataFrame(confusion_matrix(y_true = train_target, y_pred = Prediction['Threshold'] ) , columns = ['Predict_0','Predict_1'] , index = ['Actual_0','Actual_1'])"
      ]
    },
    {
      "cell_type": "code",
      "execution_count": null,
      "metadata": {
        "id": "YkvYzp4Ow536"
      },
      "outputs": [],
      "source": [
        "prediction_test = pd.DataFrame(LR_model.predict_proba(test_feature))"
      ]
    },
    {
      "cell_type": "code",
      "execution_count": null,
      "metadata": {
        "id": "GmFCcXpVw57s"
      },
      "outputs": [],
      "source": [
        "prediction_test['Threshold']=0\n",
        "prediction_test.loc[prediction_test[1]>=0.4,'Threshold'] = 1"
      ]
    },
    {
      "cell_type": "code",
      "execution_count": null,
      "metadata": {
        "id": "IBQauQPsw5-Q"
      },
      "outputs": [],
      "source": [
        "prediction_test\n"
      ]
    },
    {
      "cell_type": "code",
      "execution_count": null,
      "metadata": {
        "id": "BMbvsml9w6Bm"
      },
      "outputs": [],
      "source": [
        "f1_score(y_true=test_target, y_pred = prediction_test['Threshold'])"
      ]
    },
    {
      "cell_type": "code",
      "execution_count": null,
      "metadata": {
        "id": "zgDPC9Sdw6Ev"
      },
      "outputs": [],
      "source": [
        "train_rows = []\n",
        "test_rows = []\n",
        "\n",
        "from sklearn.model_selection import StratifiedKFold\n",
        "\n",
        "kf = StratifiedKFold(n_splits=3) ## divide the entire data into 5 equal parts..each part is of 20% data\n",
        "\n",
        "splits = kf.split(X=feature_columns, y=target_column) ## actual splitting happens\n",
        "\n",
        "for train_index, test_index in splits:\n",
        "  train_rows.append(list(train_index))\n",
        "  test_rows.append(list(test_index))"
      ]
    },
    {
      "cell_type": "code",
      "execution_count": null,
      "metadata": {
        "id": "rEf4QaLew6Hk"
      },
      "outputs": [],
      "source": [
        "train_data = []\n",
        "test_data = []\n",
        "\n",
        "for train_index, test_index in zip(train_rows, test_rows):\n",
        "    X_train, X_test = feature_columns.iloc[train_index], feature_columns.iloc[test_index]\n",
        "    y_train, y_test = target_column.iloc[train_index], target_column.iloc[test_index]\n",
        "\n",
        "    train_data.append((X_train, y_train))\n",
        "    test_data.append((X_test, y_test))"
      ]
    },
    {
      "cell_type": "code",
      "execution_count": null,
      "metadata": {
        "id": "HPiJZyhkw6KV"
      },
      "outputs": [],
      "source": [
        "first_fold_train_features, first_fold_train_target = train_data[0]\n",
        "first_fold_val_features, first_fold_val_target = test_data[0]\n",
        "\n",
        "Second_fold_train_features, Second_fold_train_target = train_data[1]\n",
        "Second_fold_val_features, Second_fold_val_target = test_data[1]\n",
        "\n",
        "third_fold_train_features, third_fold_train_target = train_data[2]\n",
        "third_fold_val_features, third_fold_val_target = test_data[2]\n",
        "\n",
        "\n"
      ]
    },
    {
      "cell_type": "code",
      "execution_count": null,
      "metadata": {
        "id": "fez2VIR93SYA"
      },
      "outputs": [],
      "source": [
        "LR_model = LogisticRegression(max_iter = 400, random_state = 800,\n",
        "                              class_weight = {0:1,1:5.6})\n",
        "LR_model.fit(first_fold_train_features,first_fold_train_target)"
      ]
    },
    {
      "cell_type": "code",
      "execution_count": null,
      "metadata": {
        "id": "doJxEuKB3Sfa"
      },
      "outputs": [],
      "source": [
        "Prediction = pd.DataFrame(LR_model.predict_proba(first_fold_train_features))"
      ]
    },
    {
      "cell_type": "code",
      "execution_count": null,
      "metadata": {
        "id": "JVcBBI6u3Sj4"
      },
      "outputs": [],
      "source": [
        "Prediction['Threshold'] = 0\n",
        "Prediction.loc[Prediction[1]>=0.4,'Threshold'] = 1"
      ]
    },
    {
      "cell_type": "code",
      "execution_count": null,
      "metadata": {
        "id": "6qll17X63Sm-"
      },
      "outputs": [],
      "source": [
        "f1_score(y_true=first_fold_train_target, y_pred = Prediction['Threshold'])"
      ]
    },
    {
      "cell_type": "code",
      "execution_count": null,
      "metadata": {
        "id": "Vw9baw7r3SqT"
      },
      "outputs": [],
      "source": [
        "prediction_test = pd.DataFrame(LR_model.predict_proba(first_fold_val_features))"
      ]
    },
    {
      "cell_type": "code",
      "execution_count": null,
      "metadata": {
        "id": "3XCdyQjX3Sta"
      },
      "outputs": [],
      "source": [
        "prediction_test['Threshold'] = 0\n",
        "prediction_test.loc[prediction_test[1]>=0.4,'Threshold'] = 1"
      ]
    },
    {
      "cell_type": "code",
      "execution_count": null,
      "metadata": {
        "id": "Vujvieoq3SwL"
      },
      "outputs": [],
      "source": [
        "f1_score(y_true=first_fold_val_target, y_pred = prediction_test['Threshold'])"
      ]
    },
    {
      "cell_type": "code",
      "execution_count": null,
      "metadata": {
        "id": "StDf9uNX3Sy8"
      },
      "outputs": [],
      "source": [
        "LR_model = LogisticRegression(max_iter = 400, random_state = 1200,\n",
        "                              class_weight = {0:1,1:5.6})\n",
        "LR_model.fit(Second_fold_train_features,Second_fold_train_target)"
      ]
    },
    {
      "cell_type": "code",
      "execution_count": null,
      "metadata": {
        "id": "KRleSukf5rdN"
      },
      "outputs": [],
      "source": [
        "prediction_train = pd.DataFrame(LR_model.predict_proba(Second_fold_train_features))\n",
        "prediction_val = pd.DataFrame(LR_model.predict_proba(Second_fold_val_features))\n"
      ]
    },
    {
      "cell_type": "code",
      "execution_count": null,
      "metadata": {
        "id": "IUik9PGS5rgh"
      },
      "outputs": [],
      "source": [
        "prediction_train['Thres'] = 0\n",
        "prediction_train.loc[prediction_train[1]>=0.4,'Thres'] = 1\n",
        "prediction_val['Thres'] = 0\n",
        "prediction_val.loc[prediction_val[1]>=0.4,'Thres'] = 1"
      ]
    },
    {
      "cell_type": "code",
      "execution_count": null,
      "metadata": {
        "id": "HYtakm3j5rkY"
      },
      "outputs": [],
      "source": [
        "print(f\"f1 score for Second_fold_train {f1_score(y_true= Second_fold_train_target, y_pred = prediction_train['Thres'])}\")\n",
        "print(f\"f1 score for Second_fold_val {f1_score(y_true= Second_fold_val_target, y_pred = prediction_val['Thres'])}\")"
      ]
    },
    {
      "cell_type": "code",
      "execution_count": null,
      "metadata": {
        "id": "ppsGXDjo5roD"
      },
      "outputs": [],
      "source": [
        "LR_model = LogisticRegression(max_iter = 400, random_state = 1200,\n",
        "                              class_weight = {0:1,1:5.6})\n",
        "LR_model.fit(third_fold_train_features,third_fold_train_target)"
      ]
    },
    {
      "cell_type": "code",
      "execution_count": null,
      "metadata": {
        "id": "5VWYmJyc5rrs"
      },
      "outputs": [],
      "source": [
        "# decision tree"
      ]
    },
    {
      "cell_type": "code",
      "execution_count": null,
      "metadata": {
        "id": "red3PPCa5rtv"
      },
      "outputs": [],
      "source": [
        "from sklearn.tree import DecisionTreeClassifier\n",
        "dtc = DecisionTreeClassifier(  criterion='entropy' ,\n",
        "                              class_weight={0:1,1:6},\n",
        "                             max_depth = 6, min_samples_split = 10 , random_state=1200)\n",
        "dtc.fit(train_feature,train_target)\n",
        "#                       class_weight={0:1,1:5} with this f1 score train 43.3 and test is 20.1\n",
        "#                         criterion='entropy'  with this f1 score train 43.3 and test is 16\n",
        "#                       class_weight={0:1,1:6} with this f1 score train 43.3 and test is 15.6\n",
        "#                         criterion='entropy'  with this f1 score train 43.3 and test is 16.5         conclusion = it dint get better at all\n",
        "#                       now with threshold 0.4 and class_weight={0:1,1:5}f1 score train 31.5 and test is 21.5\n",
        "#\n",
        "#                       now with threshold 0.3 and class_weight={0:1,1:5}f1 score train 31.4 and test is 20.7\n",
        "#                       now with threshold 0.4 and class_weight={0:1,1:6}f1 score train 31.2 and test is 20.9\n",
        "#                       after using grid search cv max value f1 train test score is  55.9 and test is 20.0"
      ]
    },
    {
      "cell_type": "code",
      "execution_count": null,
      "metadata": {
        "id": "kYhUN24P5rys"
      },
      "outputs": [],
      "source": [
        "prediction = pd.DataFrame(dtc.predict(train_feature))"
      ]
    },
    {
      "cell_type": "code",
      "execution_count": null,
      "metadata": {
        "id": "tWNWB_NC5r1X"
      },
      "outputs": [],
      "source": [
        "prediction"
      ]
    },
    {
      "cell_type": "code",
      "execution_count": null,
      "metadata": {
        "id": "b9fFJelC3S2I"
      },
      "outputs": [],
      "source": [
        "pd.DataFrame(confusion_matrix(y_true = train_target , y_pred = prediction) ,columns = ['Predict_0','Predict_1'] , index = ['Actual_0','Actual_1'])"
      ]
    },
    {
      "cell_type": "code",
      "execution_count": null,
      "metadata": {
        "id": "qko6hDbG3S5V"
      },
      "outputs": [],
      "source": [
        "f1_score(y_true = train_target, y_pred = prediction)\n"
      ]
    },
    {
      "cell_type": "code",
      "execution_count": null,
      "metadata": {
        "id": "1vsPeH5X9wld"
      },
      "outputs": [],
      "source": [
        "\n",
        "predict_test = pd.DataFrame(dtc.predict(test_feature))"
      ]
    },
    {
      "cell_type": "code",
      "execution_count": null,
      "metadata": {
        "id": "kZXHp9Ic9wod"
      },
      "outputs": [],
      "source": [
        "f1_score(y_true = test_target, y_pred = predict_test )\n"
      ]
    },
    {
      "cell_type": "code",
      "execution_count": null,
      "metadata": {
        "id": "ZtBuYIRy_DKu"
      },
      "outputs": [],
      "source": [
        "predict_threshold = pd.DataFrame(dtc.predict_proba(train_feature))"
      ]
    },
    {
      "cell_type": "code",
      "execution_count": null,
      "metadata": {
        "id": "DFFrg13e9wrz"
      },
      "outputs": [],
      "source": [
        "predict_threshold['Threshold'] = 0\n",
        "predict_threshold.loc[predict_threshold[1]>=0.3,'Threshold'] = 1"
      ]
    },
    {
      "cell_type": "code",
      "execution_count": null,
      "metadata": {
        "id": "3CR0rJJn9wuq"
      },
      "outputs": [],
      "source": [
        "f1_score(y_true = train_target, y_pred = predict_threshold['Threshold'] )"
      ]
    },
    {
      "cell_type": "code",
      "execution_count": null,
      "metadata": {
        "id": "S4ezDX369wxC"
      },
      "outputs": [],
      "source": [
        "predict_threshold_test = pd.DataFrame(dtc.predict_proba(test_feature))"
      ]
    },
    {
      "cell_type": "code",
      "execution_count": null,
      "metadata": {
        "id": "PLeAHSF59wz5"
      },
      "outputs": [],
      "source": [
        "predict_threshold_test['Threshold'] = 0\n",
        "predict_threshold_test.loc[predict_threshold_test[1]>=0.3,'Threshold'] = 1"
      ]
    },
    {
      "cell_type": "code",
      "execution_count": null,
      "metadata": {
        "id": "y0hxwZHD9w3W"
      },
      "outputs": [],
      "source": [
        "f1_score(y_true = test_target, y_pred = predict_threshold_test['Threshold'] )\n"
      ]
    },
    {
      "cell_type": "code",
      "execution_count": null,
      "metadata": {
        "id": "9gyJqwt_AaLg"
      },
      "outputs": [],
      "source": [
        "from sklearn.model_selection import GridSearchCV\n",
        "dtc = DecisionTreeClassifier()\n",
        "params = { 'class_weight' : [{0:1,1:4.5},{0:1,1:5},{0:1,1:5.1},{0:1,1:5.3}],\n",
        "          'max_depth' : [6,7,8,9,10],\n",
        "           'min_samples_split' : [10,20,25]\n",
        "\n",
        "           }\n",
        "grid_search = GridSearchCV(estimator = dtc,           #class\n",
        "                           param_grid = params,\n",
        "                           cv=5,           #Kfold validation = 5 fold validation\n",
        "                           scoring = 'f1',\n",
        "                           return_train_score=True )\n",
        "grid_search.fit(feature_columns,target_column)"
      ]
    },
    {
      "cell_type": "code",
      "execution_count": null,
      "metadata": {
        "id": "Mh711FKHAaO1"
      },
      "outputs": [],
      "source": [
        "grid_search.cv_results_['mean_train_score']"
      ]
    },
    {
      "cell_type": "code",
      "execution_count": null,
      "metadata": {
        "id": "KNgWyKJ5AaRQ"
      },
      "outputs": [],
      "source": [
        "grid_search.cv_results_['mean_test_score']\n"
      ]
    },
    {
      "cell_type": "code",
      "execution_count": null,
      "metadata": {
        "id": "p6drbk-nHW_5"
      },
      "outputs": [],
      "source": [
        "#ensemble technique"
      ]
    },
    {
      "cell_type": "code",
      "execution_count": null,
      "metadata": {
        "id": "md2uweoaAaU2"
      },
      "outputs": [],
      "source": [
        "from sklearn.linear_model import LogisticRegression\n",
        "from sklearn.svm import SVC\n",
        "from sklearn.neighbors import KNeighborsClassifier\n",
        "from sklearn.ensemble import RandomForestClassifier\n",
        "from sklearn.ensemble import VotingClassifier\n",
        "\n",
        "lr_model =  LogisticRegression(max_iter=500)\n",
        "svm_model = SVC()\n",
        "knn_model = KNeighborsClassifier()\n",
        "rf_model = RandomForestClassifier()\n",
        "dt_model = DecisionTreeClassifier()\n",
        "\n",
        "ensemble_model= VotingClassifier([('lr', lr_model),\n",
        "                                  ('svm', svm_model),\n",
        "                                  ('knn', knn_model),\n",
        "                                  ('rf', rf_model),\n",
        "                                  ('dt', dt_model)], voting='hard')\n",
        "\n",
        "ensemble_model.fit(feature_columns, target_column)"
      ]
    },
    {
      "cell_type": "code",
      "execution_count": null,
      "metadata": {
        "id": "amVe-RVMAaXw"
      },
      "outputs": [],
      "source": [
        "from sklearn.metrics import confusion_matrix\n",
        "prediction = ensemble_model.predict(feature_columns)\n",
        "actuals = target_column.tolist()\n",
        "\n"
      ]
    },
    {
      "cell_type": "code",
      "execution_count": null,
      "metadata": {
        "id": "83somB8tAaap"
      },
      "outputs": [],
      "source": [
        "confusion_matrix(actuals, prediction)"
      ]
    },
    {
      "cell_type": "code",
      "execution_count": null,
      "metadata": {
        "id": "U9FqiMv0Aadd"
      },
      "outputs": [],
      "source": [
        "f1_score(actuals, prediction)"
      ]
    },
    {
      "cell_type": "code",
      "execution_count": null,
      "metadata": {
        "id": "9AnYrsK8AagF"
      },
      "outputs": [],
      "source": [
        "from imblearn.over_sampling import SMOTE\n",
        "sm = SMOTE(random_state = 2)\n",
        "X_train_res, y_train_res = sm.fit_resample(train_feature, train_target.ravel())\n",
        "\n",
        "\n"
      ]
    },
    {
      "cell_type": "code",
      "execution_count": null,
      "metadata": {
        "id": "W7Y_2ZeFAai8"
      },
      "outputs": [],
      "source": [
        "print('After OverSampling, the shape of train_X: {}'.format(X_train_res.shape))\n",
        "print('After OverSampling, the shape of train_y: {} \\n'.format(y_train_res.shape))\n",
        "\n",
        "print(\"After OverSampling, counts of label '1': {}\".format(sum(y_train_res == 1)))\n",
        "print(\"After OverSampling, counts of label '0': {}\".format(sum(y_train_res == 0)))"
      ]
    },
    {
      "cell_type": "code",
      "execution_count": null,
      "metadata": {
        "id": "VN-u-3lOAamZ"
      },
      "outputs": [],
      "source": [
        "LR_model = LogisticRegression(max_iter = 400,                                  ## Model is overfitting with LR tried with 40%, 50%\n",
        "                              class_weight = {0:1,1:1})\n",
        "LR_model.fit(X_train_res,y_train_res)\n",
        "#                        after using smote\n",
        "#                                     the train  f1 score at {0:1,1:2} is 66.6 test is 18.7\n",
        "#                                     the train  f1 score at {0:1,1:2} is 54.4 test is 20.1    # there was no change after channging the threshold also\n"
      ]
    },
    {
      "cell_type": "code",
      "execution_count": null,
      "metadata": {
        "id": "LxAf6BwiH7GA"
      },
      "outputs": [],
      "source": [
        "Prediction_smote = pd.DataFrame(LR_model.predict_proba(X_train_res))"
      ]
    },
    {
      "cell_type": "code",
      "execution_count": null,
      "metadata": {
        "id": "Pgcfwye3H7Kz"
      },
      "outputs": [],
      "source": [
        "Prediction_smote['threshold']=0\n",
        "Prediction_smote.loc[Prediction_smote[1]>=0.4,'threshold'] = 1"
      ]
    },
    {
      "cell_type": "code",
      "execution_count": null,
      "metadata": {
        "id": "kurgLVKLH7PK"
      },
      "outputs": [],
      "source": [
        "Prediction_smote"
      ]
    },
    {
      "cell_type": "code",
      "execution_count": null,
      "metadata": {
        "id": "VXR4m210H7TR"
      },
      "outputs": [],
      "source": [
        "f1_score(y_true = y_train_res , y_pred =Prediction_smote['threshold'] )"
      ]
    },
    {
      "cell_type": "code",
      "execution_count": null,
      "metadata": {
        "id": "KL3a0CQmH7Wd"
      },
      "outputs": [],
      "source": [
        "Prediction_test = pd.DataFrame(LR_model.predict_proba(test_feature))"
      ]
    },
    {
      "cell_type": "code",
      "execution_count": null,
      "metadata": {
        "id": "uoZAh4WyH7Zk"
      },
      "outputs": [],
      "source": [
        "Prediction_test['threshold']=0\n",
        "Prediction_test.loc[Prediction_test[1]>=0.4,'threshold'] = 1"
      ]
    },
    {
      "cell_type": "code",
      "execution_count": null,
      "metadata": {
        "id": "SIIfepu6IoxB"
      },
      "outputs": [],
      "source": [
        "Prediction_test\n"
      ]
    },
    {
      "cell_type": "code",
      "execution_count": null,
      "metadata": {
        "id": "FpElfq1nIpAw"
      },
      "outputs": [],
      "source": [
        "f1_score(y_true = test_target , y_pred =Prediction_test['threshold'] )"
      ]
    },
    {
      "cell_type": "code",
      "execution_count": null,
      "metadata": {
        "id": "MvPbExzcIpER"
      },
      "outputs": [],
      "source": [
        "clf = DecisionTreeClassifier(class_weight={0:1,1:1},\n",
        "                             max_depth = 8, min_samples_split = 10 , random_state=8)\n",
        "clf.fit(X_train_res,y_train_res)\n",
        "#                            at threshold 0.3 and class_weight={0:1,1:3} test f1 score is 73.03 and test is 18.9\n",
        "#                            at threshold 0.3 and class_weight={0:1,1:3} test f1 score is 80.5 and test is 19.6\n",
        "#                            no change in test f1 score after varying max and everything although train f1 score reached to 75.5 at max depth 8\n",
        "#                            and it was 75.6 at threshold of .5"
      ]
    },
    {
      "cell_type": "code",
      "execution_count": null,
      "metadata": {
        "id": "LTcZlXDNIpXY"
      },
      "outputs": [],
      "source": [
        "predict = pd.DataFrame(clf.predict_proba(X_train_res))"
      ]
    },
    {
      "cell_type": "code",
      "execution_count": null,
      "metadata": {
        "id": "WfMsZ2QGIpa1"
      },
      "outputs": [],
      "source": [
        "predict['threshold'] = 0\n",
        "predict.loc[predict[1]>=0.5,'threshold'] = 1"
      ]
    },
    {
      "cell_type": "code",
      "execution_count": null,
      "metadata": {
        "id": "DV3VKm9-IpfN"
      },
      "outputs": [],
      "source": [
        "predict\n"
      ]
    },
    {
      "cell_type": "code",
      "execution_count": null,
      "metadata": {
        "id": "qxUWuNt8KFGS"
      },
      "outputs": [],
      "source": [
        "print(f1_score(y_true= y_train_res, y_pred= predict['threshold']))"
      ]
    },
    {
      "cell_type": "code",
      "execution_count": null,
      "metadata": {
        "id": "JwIubs2SKFLB"
      },
      "outputs": [],
      "source": [
        "predict_test = pd.DataFrame(clf.predict_proba(test_feature))"
      ]
    },
    {
      "cell_type": "code",
      "execution_count": null,
      "metadata": {
        "id": "FfwqUj9qKFO9"
      },
      "outputs": [],
      "source": [
        "predict_test"
      ]
    },
    {
      "cell_type": "code",
      "execution_count": null,
      "metadata": {
        "id": "RgAmvgH1KFTT"
      },
      "outputs": [],
      "source": [
        "predict_test['threshold'] = 0\n",
        "predict_test.loc[predict[1]>=0.3,'threshold'] = 1"
      ]
    },
    {
      "cell_type": "code",
      "execution_count": null,
      "metadata": {
        "id": "sauO74BjKPna"
      },
      "outputs": [],
      "source": [
        "print(f1_score(y_true= test_target, y_pred= predict_test['threshold']))"
      ]
    }
  ],
  "metadata": {
    "colab": {
      "provenance": []
    },
    "kernelspec": {
      "display_name": "Python 3",
      "name": "python3"
    },
    "language_info": {
      "name": "python"
    }
  },
  "nbformat": 4,
  "nbformat_minor": 0
}